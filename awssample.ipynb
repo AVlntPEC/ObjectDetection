{
  "cells": [
    {
      "cell_type": "code",
      "execution_count": 1,
      "metadata": {
        "colab": {
          "base_uri": "https://localhost:8080/"
        },
        "id": "LEu0ibJWwMw0",
        "outputId": "38024520-39f0-447a-d5ac-075470c155ba"
      },
      "outputs": [
        {
          "name": "stdout",
          "output_type": "stream",
          "text": [
            "Collecting boto3\n",
            "  Downloading boto3-1.34.155-py3-none-any.whl.metadata (6.6 kB)\n",
            "Collecting botocore<1.35.0,>=1.34.155 (from boto3)\n",
            "  Downloading botocore-1.34.155-py3-none-any.whl.metadata (5.7 kB)\n",
            "Collecting jmespath<2.0.0,>=0.7.1 (from boto3)\n",
            "  Downloading jmespath-1.0.1-py3-none-any.whl.metadata (7.6 kB)\n",
            "Collecting s3transfer<0.11.0,>=0.10.0 (from boto3)\n",
            "  Downloading s3transfer-0.10.2-py3-none-any.whl.metadata (1.7 kB)\n",
            "Requirement already satisfied: python-dateutil<3.0.0,>=2.1 in /usr/local/lib/python3.10/dist-packages (from botocore<1.35.0,>=1.34.155->boto3) (2.8.2)\n",
            "Requirement already satisfied: urllib3!=2.2.0,<3,>=1.25.4 in /usr/local/lib/python3.10/dist-packages (from botocore<1.35.0,>=1.34.155->boto3) (2.0.7)\n",
            "Requirement already satisfied: six>=1.5 in /usr/local/lib/python3.10/dist-packages (from python-dateutil<3.0.0,>=2.1->botocore<1.35.0,>=1.34.155->boto3) (1.16.0)\n",
            "Downloading boto3-1.34.155-py3-none-any.whl (139 kB)\n",
            "\u001b[2K   \u001b[90m━━━━━━━━━━━━━━━━━━━━━━━━━━━━━━━━━━━━━━━━\u001b[0m \u001b[32m139.2/139.2 kB\u001b[0m \u001b[31m5.5 MB/s\u001b[0m eta \u001b[36m0:00:00\u001b[0m\n",
            "\u001b[?25hDownloading botocore-1.34.155-py3-none-any.whl (12.5 MB)\n",
            "\u001b[2K   \u001b[90m━━━━━━━━━━━━━━━━━━━━━━━━━━━━━━━━━━━━━━━━\u001b[0m \u001b[32m12.5/12.5 MB\u001b[0m \u001b[31m83.0 MB/s\u001b[0m eta \u001b[36m0:00:00\u001b[0m\n",
            "\u001b[?25hDownloading jmespath-1.0.1-py3-none-any.whl (20 kB)\n",
            "Downloading s3transfer-0.10.2-py3-none-any.whl (82 kB)\n",
            "\u001b[2K   \u001b[90m━━━━━━━━━━━━━━━━━━━━━━━━━━━━━━━━━━━━━━━━\u001b[0m \u001b[32m82.7/82.7 kB\u001b[0m \u001b[31m6.1 MB/s\u001b[0m eta \u001b[36m0:00:00\u001b[0m\n",
            "\u001b[?25hInstalling collected packages: jmespath, botocore, s3transfer, boto3\n",
            "Successfully installed boto3-1.34.155 botocore-1.34.155 jmespath-1.0.1 s3transfer-0.10.2\n"
          ]
        }
      ],
      "source": [
        "!pip install boto3\n",
        "import boto3\n",
        "import os\n",
        "from PIL import Image\n",
        "import matplotlib.pyplot as plt\n"
      ]
    },
    {
      "cell_type": "code",
      "execution_count": 2,
      "metadata": {
        "id": "o--cU3Lwu4W7"
      },
      "outputs": [],
      "source": [
        "import boto3\n",
        "import os\n",
        "\n",
        "# Set your AWS credentials as environment variables\n",
        "os.environ['AWS_ACCESS_KEY_ID'] = '******'\n",
        "os.environ['AWS_SECRET_ACCESS_KEY'] = '*******'\n",
        "os.environ['AWS_DEFAULT_REGION'] = 'us-east-1'\n",
        "\n",
        "# Initialize a session using the environment variables\n",
        "session = boto3.Session(\n",
        "    aws_access_key_id=os.environ['AWS_ACCESS_KEY_ID'],\n",
        "    aws_secret_access_key=os.environ['AWS_SECRET_ACCESS_KEY'],\n",
        "    region_name=os.environ['AWS_DEFAULT_REGION']\n",
        ")\n",
        "\n",
        "# Create an S3 client\n",
        "s3 = session.client('s3')\n",
        "# Specify the bucket name and prefix\n",
        "bucket_name = 'lntav'\n",
        "prefix = 'road sign/motor_allowed/'\n"
      ]
    },
    {
      "cell_type": "code",
      "execution_count": 3,
      "metadata": {
        "colab": {
          "base_uri": "https://localhost:8080/"
        },
        "id": "HPi_9mQ5rcJy",
        "outputId": "418c6729-08f4-4caf-9fd0-07111ea4fd83"
      },
      "outputs": [
        {
          "name": "stdout",
          "output_type": "stream",
          "text": [
            "road sign/motor_allowed/028_0001.png\n",
            "road sign/motor_allowed/028_0002.png\n",
            "road sign/motor_allowed/028_0003.png\n",
            "road sign/motor_allowed/028_0004.png\n",
            "road sign/motor_allowed/028_0005.png\n",
            "road sign/motor_allowed/028_0006.png\n",
            "road sign/motor_allowed/028_0007.png\n",
            "road sign/motor_allowed/028_0008.png\n",
            "road sign/motor_allowed/028_0009.png\n",
            "road sign/motor_allowed/028_0010.png\n",
            "road sign/motor_allowed/028_0011.png\n",
            "road sign/motor_allowed/028_0012.png\n",
            "road sign/motor_allowed/028_0013.png\n",
            "road sign/motor_allowed/028_0014.png\n",
            "road sign/motor_allowed/028_0015.png\n",
            "road sign/motor_allowed/028_0016.png\n",
            "road sign/motor_allowed/028_0017.png\n",
            "road sign/motor_allowed/028_0018.png\n",
            "road sign/motor_allowed/028_0019.png\n",
            "road sign/motor_allowed/028_0020.png\n",
            "road sign/motor_allowed/028_0021.png\n",
            "road sign/motor_allowed/028_0022.png\n",
            "road sign/motor_allowed/028_0023.png\n",
            "road sign/motor_allowed/028_0024.png\n",
            "road sign/motor_allowed/028_0025.png\n",
            "road sign/motor_allowed/028_0026.png\n",
            "road sign/motor_allowed/028_0027.png\n",
            "road sign/motor_allowed/028_0028.png\n",
            "road sign/motor_allowed/028_0029.png\n",
            "road sign/motor_allowed/028_0030.png\n",
            "road sign/motor_allowed/028_0031.png\n",
            "road sign/motor_allowed/028_0032.png\n",
            "road sign/motor_allowed/028_0033.png\n",
            "road sign/motor_allowed/028_0034.png\n",
            "road sign/motor_allowed/028_0035.png\n",
            "road sign/motor_allowed/028_0035_j.png\n",
            "road sign/motor_allowed/028_0036.png\n",
            "road sign/motor_allowed/028_0037.png\n",
            "road sign/motor_allowed/028_0038.png\n",
            "road sign/motor_allowed/028_0039.png\n",
            "road sign/motor_allowed/028_0040.png\n",
            "road sign/motor_allowed/028_0041.png\n",
            "road sign/motor_allowed/028_0042.png\n",
            "road sign/motor_allowed/028_0043.png\n",
            "road sign/motor_allowed/028_0044.png\n",
            "road sign/motor_allowed/028_0045.png\n",
            "road sign/motor_allowed/028_0046.png\n",
            "road sign/motor_allowed/028_0047.png\n",
            "road sign/motor_allowed/028_0048.png\n",
            "road sign/motor_allowed/028_0049.png\n",
            "road sign/motor_allowed/028_0050.png\n",
            "road sign/motor_allowed/028_0051.png\n",
            "road sign/motor_allowed/028_0052.png\n",
            "road sign/motor_allowed/028_0053.png\n",
            "road sign/motor_allowed/028_0054.png\n",
            "road sign/motor_allowed/028_0055.png\n",
            "road sign/motor_allowed/028_0056.png\n",
            "road sign/motor_allowed/028_0057.png\n",
            "road sign/motor_allowed/028_0058.png\n",
            "road sign/motor_allowed/028_0059.png\n",
            "road sign/motor_allowed/028_0060.png\n",
            "road sign/motor_allowed/028_0061.png\n",
            "road sign/motor_allowed/028_0062.png\n",
            "road sign/motor_allowed/028_0063.png\n",
            "road sign/motor_allowed/028_0064.png\n",
            "road sign/motor_allowed/028_0065.png\n",
            "road sign/motor_allowed/028_0066.png\n",
            "road sign/motor_allowed/028_0067.png\n",
            "road sign/motor_allowed/028_0068.png\n",
            "road sign/motor_allowed/028_0069.png\n",
            "road sign/motor_allowed/028_0070.png\n",
            "road sign/motor_allowed/028_0071.png\n",
            "road sign/motor_allowed/028_0072.png\n",
            "road sign/motor_allowed/028_0073.png\n",
            "road sign/motor_allowed/028_0074.png\n",
            "road sign/motor_allowed/028_0075.png\n",
            "road sign/motor_allowed/028_0076.png\n",
            "road sign/motor_allowed/028_0077.png\n",
            "road sign/motor_allowed/028_0078.png\n",
            "road sign/motor_allowed/028_0079.png\n",
            "road sign/motor_allowed/028_0080.png\n",
            "road sign/motor_allowed/028_0081.png\n",
            "road sign/motor_allowed/028_0082.png\n",
            "road sign/motor_allowed/028_0083.png\n",
            "road sign/motor_allowed/028_0084.png\n",
            "road sign/motor_allowed/028_0085.png\n",
            "road sign/motor_allowed/028_0086.png\n",
            "road sign/motor_allowed/028_0087.png\n",
            "road sign/motor_allowed/028_0088.png\n",
            "road sign/motor_allowed/028_0089.png\n",
            "road sign/motor_allowed/028_0090.png\n",
            "road sign/motor_allowed/028_0091.png\n",
            "road sign/motor_allowed/028_0092.png\n",
            "road sign/motor_allowed/028_0093.png\n",
            "road sign/motor_allowed/028_0094.png\n",
            "road sign/motor_allowed/028_0095.png\n",
            "road sign/motor_allowed/028_0096.png\n",
            "road sign/motor_allowed/028_0097.png\n",
            "road sign/motor_allowed/028_0098.png\n",
            "road sign/motor_allowed/028_0099.png\n",
            "road sign/motor_allowed/028_0100.png\n",
            "road sign/motor_allowed/028_0101.png\n",
            "road sign/motor_allowed/028_0102.png\n",
            "road sign/motor_allowed/028_0103.png\n",
            "road sign/motor_allowed/028_0104.png\n",
            "road sign/motor_allowed/028_0105.png\n",
            "road sign/motor_allowed/028_0106.png\n",
            "road sign/motor_allowed/028_0107.png\n",
            "road sign/motor_allowed/028_0108.png\n",
            "road sign/motor_allowed/028_0109.png\n",
            "road sign/motor_allowed/028_0110.png\n",
            "road sign/motor_allowed/028_0111.png\n",
            "road sign/motor_allowed/028_0112.png\n",
            "road sign/motor_allowed/028_0113.png\n",
            "road sign/motor_allowed/028_0114.png\n",
            "road sign/motor_allowed/028_0115.png\n",
            "road sign/motor_allowed/028_0116.png\n",
            "road sign/motor_allowed/028_0117.png\n",
            "road sign/motor_allowed/028_0118.png\n",
            "road sign/motor_allowed/028_0119.png\n",
            "road sign/motor_allowed/028_0120.png\n",
            "road sign/motor_allowed/028_0121.png\n",
            "road sign/motor_allowed/028_0122.png\n",
            "road sign/motor_allowed/028_0123.png\n",
            "road sign/motor_allowed/028_0124.png\n",
            "road sign/motor_allowed/028_0125.png\n",
            "road sign/motor_allowed/028_0126.png\n",
            "road sign/motor_allowed/028_0127.png\n",
            "road sign/motor_allowed/028_0128.png\n",
            "road sign/motor_allowed/028_0129.png\n",
            "road sign/motor_allowed/028_0130.png\n",
            "road sign/motor_allowed/028_0131.png\n",
            "road sign/motor_allowed/028_0132.png\n",
            "road sign/motor_allowed/028_0133.png\n",
            "road sign/motor_allowed/028_0134.png\n",
            "road sign/motor_allowed/028_0135.png\n",
            "road sign/motor_allowed/028_0136.png\n",
            "road sign/motor_allowed/028_0137.png\n",
            "road sign/motor_allowed/028_0138.png\n",
            "road sign/motor_allowed/028_0139.png\n",
            "road sign/motor_allowed/028_0140.png\n",
            "road sign/motor_allowed/028_0141.png\n",
            "road sign/motor_allowed/028_0142.png\n",
            "road sign/motor_allowed/028_0143.png\n",
            "road sign/motor_allowed/028_0144.png\n",
            "road sign/motor_allowed/028_0145.png\n",
            "road sign/motor_allowed/028_0146.png\n",
            "road sign/motor_allowed/028_0147.png\n",
            "road sign/motor_allowed/028_0148.png\n",
            "road sign/motor_allowed/028_0149.png\n",
            "road sign/motor_allowed/028_0150.png\n",
            "road sign/motor_allowed/028_0151.png\n",
            "road sign/motor_allowed/028_0152.png\n",
            "road sign/motor_allowed/028_0153.png\n",
            "road sign/motor_allowed/028_0154.png\n",
            "road sign/motor_allowed/028_0155.png\n",
            "road sign/motor_allowed/028_0156.png\n",
            "road sign/motor_allowed/028_0157.png\n",
            "road sign/motor_allowed/028_0158.png\n",
            "road sign/motor_allowed/028_0159.png\n",
            "road sign/motor_allowed/028_0160.png\n",
            "road sign/motor_allowed/028_0161.png\n",
            "road sign/motor_allowed/028_0162.png\n",
            "road sign/motor_allowed/028_0163.png\n",
            "road sign/motor_allowed/028_0164.png\n",
            "road sign/motor_allowed/028_0165.png\n",
            "road sign/motor_allowed/028_0166.png\n",
            "road sign/motor_allowed/028_0167.png\n",
            "road sign/motor_allowed/028_0168.png\n",
            "road sign/motor_allowed/028_0169.png\n",
            "road sign/motor_allowed/028_0170.png\n",
            "road sign/motor_allowed/028_0171.png\n",
            "road sign/motor_allowed/028_0172.png\n",
            "road sign/motor_allowed/028_0173.png\n",
            "road sign/motor_allowed/028_0174.png\n",
            "road sign/motor_allowed/028_0175.png\n",
            "road sign/motor_allowed/028_0176.png\n",
            "road sign/motor_allowed/028_0177.png\n",
            "road sign/motor_allowed/028_0178.png\n",
            "road sign/motor_allowed/028_0179.png\n",
            "road sign/motor_allowed/028_0180.png\n",
            "road sign/motor_allowed/028_0181.png\n",
            "road sign/motor_allowed/028_0182.png\n",
            "road sign/motor_allowed/028_0183.png\n",
            "road sign/motor_allowed/028_0184.png\n",
            "road sign/motor_allowed/028_0185.png\n",
            "road sign/motor_allowed/028_0186.png\n",
            "road sign/motor_allowed/028_0187.png\n",
            "road sign/motor_allowed/028_0188.png\n",
            "road sign/motor_allowed/028_0189.png\n",
            "road sign/motor_allowed/028_0190.png\n",
            "road sign/motor_allowed/028_0191.png\n",
            "road sign/motor_allowed/028_0192.png\n",
            "road sign/motor_allowed/028_0193.png\n",
            "road sign/motor_allowed/028_0194.png\n",
            "road sign/motor_allowed/028_0195.png\n",
            "road sign/motor_allowed/028_0196.png\n",
            "road sign/motor_allowed/028_0197.png\n",
            "road sign/motor_allowed/028_0198.png\n",
            "road sign/motor_allowed/028_0199.png\n",
            "road sign/motor_allowed/028_0200.png\n",
            "road sign/motor_allowed/028_0201.png\n",
            "road sign/motor_allowed/028_0202.png\n",
            "road sign/motor_allowed/028_0203.png\n",
            "road sign/motor_allowed/028_0204.png\n",
            "road sign/motor_allowed/028_0205.png\n",
            "road sign/motor_allowed/028_0206.png\n",
            "road sign/motor_allowed/028_0207.png\n",
            "road sign/motor_allowed/028_0208.png\n",
            "road sign/motor_allowed/028_0209.png\n",
            "road sign/motor_allowed/028_0210.png\n",
            "road sign/motor_allowed/028_0211.png\n",
            "road sign/motor_allowed/028_0212.png\n",
            "road sign/motor_allowed/028_0213.png\n",
            "road sign/motor_allowed/028_0214.png\n",
            "road sign/motor_allowed/028_0215.png\n",
            "road sign/motor_allowed/028_0216.png\n",
            "road sign/motor_allowed/028_0217.png\n",
            "road sign/motor_allowed/028_0218.png\n",
            "road sign/motor_allowed/028_0219.png\n",
            "road sign/motor_allowed/028_0220.png\n",
            "road sign/motor_allowed/028_0221.png\n",
            "road sign/motor_allowed/028_0222.png\n",
            "road sign/motor_allowed/028_1_0001.png\n",
            "road sign/motor_allowed/028_1_0002.png\n",
            "road sign/motor_allowed/028_1_0003.png\n",
            "road sign/motor_allowed/028_1_0004.png\n",
            "road sign/motor_allowed/028_1_0005.png\n",
            "road sign/motor_allowed/028_1_0006.png\n",
            "road sign/motor_allowed/028_1_0007.png\n",
            "road sign/motor_allowed/028_1_0008.png\n",
            "road sign/motor_allowed/028_1_0009.png\n",
            "road sign/motor_allowed/028_1_0010.png\n",
            "road sign/motor_allowed/028_1_0011.png\n",
            "road sign/motor_allowed/028_1_0012.png\n",
            "road sign/motor_allowed/028_1_0013.png\n",
            "road sign/motor_allowed/028_1_0014.png\n",
            "road sign/motor_allowed/028_1_0015.png\n",
            "road sign/motor_allowed/028_1_0016.png\n",
            "road sign/motor_allowed/028_1_0017.png\n",
            "road sign/motor_allowed/028_1_0018.png\n",
            "road sign/motor_allowed/028_1_0019.png\n",
            "road sign/motor_allowed/028_1_0020.png\n",
            "road sign/motor_allowed/028_1_0021.png\n",
            "road sign/motor_allowed/028_1_0022.png\n",
            "road sign/motor_allowed/028_1_0023.png\n",
            "road sign/motor_allowed/028_1_0024.png\n",
            "road sign/motor_allowed/028_1_0025.png\n",
            "road sign/motor_allowed/028_1_0026.png\n",
            "road sign/motor_allowed/028_1_0027.png\n",
            "road sign/motor_allowed/028_1_0028.png\n",
            "road sign/motor_allowed/028_1_0029.png\n",
            "road sign/motor_allowed/028_1_0030.png\n",
            "road sign/motor_allowed/028_1_0031.png\n",
            "road sign/motor_allowed/028_1_0032.png\n",
            "road sign/motor_allowed/028_1_0033.png\n",
            "road sign/motor_allowed/028_1_0034.png\n",
            "road sign/motor_allowed/028_1_0035.png\n",
            "road sign/motor_allowed/028_1_0035_1_j.png\n",
            "road sign/motor_allowed/028_1_0036.png\n",
            "road sign/motor_allowed/028_1_0037.png\n",
            "road sign/motor_allowed/028_1_0038.png\n",
            "road sign/motor_allowed/028_1_0039.png\n",
            "road sign/motor_allowed/028_1_0040.png\n",
            "road sign/motor_allowed/028_1_0041.png\n",
            "road sign/motor_allowed/028_1_0042.png\n",
            "road sign/motor_allowed/028_1_0043.png\n",
            "road sign/motor_allowed/028_1_0044.png\n",
            "road sign/motor_allowed/028_1_0045.png\n",
            "road sign/motor_allowed/028_1_0046.png\n",
            "road sign/motor_allowed/028_1_0047.png\n",
            "road sign/motor_allowed/028_1_0048.png\n",
            "road sign/motor_allowed/028_1_0049.png\n",
            "road sign/motor_allowed/028_1_0050.png\n",
            "road sign/motor_allowed/028_1_0051.png\n",
            "road sign/motor_allowed/028_1_0052.png\n",
            "road sign/motor_allowed/028_1_0053.png\n",
            "road sign/motor_allowed/028_1_0054.png\n",
            "road sign/motor_allowed/028_1_0055.png\n",
            "road sign/motor_allowed/028_1_0056.png\n",
            "road sign/motor_allowed/028_1_0057.png\n",
            "road sign/motor_allowed/028_1_0058.png\n",
            "road sign/motor_allowed/028_1_0059.png\n",
            "road sign/motor_allowed/028_1_0060.png\n",
            "road sign/motor_allowed/028_1_0061.png\n",
            "road sign/motor_allowed/028_1_0062.png\n",
            "road sign/motor_allowed/028_1_0063.png\n",
            "road sign/motor_allowed/028_1_0064.png\n",
            "road sign/motor_allowed/028_1_0065.png\n",
            "road sign/motor_allowed/028_1_0066.png\n",
            "road sign/motor_allowed/028_1_0067.png\n",
            "road sign/motor_allowed/028_1_0068.png\n",
            "road sign/motor_allowed/028_1_0069.png\n",
            "road sign/motor_allowed/028_1_0070.png\n",
            "road sign/motor_allowed/028_1_0071.png\n",
            "road sign/motor_allowed/028_1_0072.png\n",
            "road sign/motor_allowed/028_1_0073.png\n",
            "road sign/motor_allowed/028_1_0074.png\n",
            "road sign/motor_allowed/028_1_0075.png\n",
            "road sign/motor_allowed/028_1_0076.png\n",
            "road sign/motor_allowed/028_1_0077.png\n",
            "road sign/motor_allowed/028_1_0078.png\n",
            "road sign/motor_allowed/028_1_0079.png\n",
            "road sign/motor_allowed/028_1_0080.png\n",
            "road sign/motor_allowed/028_1_0081.png\n",
            "road sign/motor_allowed/028_1_0082.png\n",
            "road sign/motor_allowed/028_1_0083.png\n",
            "road sign/motor_allowed/028_1_0084.png\n",
            "road sign/motor_allowed/028_1_0085.png\n",
            "road sign/motor_allowed/028_1_0086.png\n",
            "road sign/motor_allowed/028_1_0087.png\n",
            "road sign/motor_allowed/028_1_0088.png\n",
            "road sign/motor_allowed/028_1_0089.png\n",
            "road sign/motor_allowed/028_1_0090.png\n",
            "road sign/motor_allowed/028_1_0091.png\n",
            "road sign/motor_allowed/028_1_0092.png\n",
            "road sign/motor_allowed/028_1_0093.png\n",
            "road sign/motor_allowed/028_1_0094.png\n",
            "road sign/motor_allowed/028_1_0095.png\n",
            "road sign/motor_allowed/028_1_0096.png\n",
            "road sign/motor_allowed/028_1_0097.png\n",
            "road sign/motor_allowed/028_1_0098.png\n",
            "road sign/motor_allowed/028_1_0099.png\n",
            "road sign/motor_allowed/028_1_0100.png\n",
            "road sign/motor_allowed/028_1_0101.png\n",
            "road sign/motor_allowed/028_1_0102.png\n",
            "road sign/motor_allowed/028_1_0103.png\n",
            "road sign/motor_allowed/028_1_0104.png\n",
            "road sign/motor_allowed/028_1_0105.png\n",
            "road sign/motor_allowed/028_1_0106.png\n",
            "road sign/motor_allowed/028_1_0107.png\n",
            "road sign/motor_allowed/028_1_0108.png\n",
            "road sign/motor_allowed/028_1_0109.png\n",
            "road sign/motor_allowed/028_1_0110.png\n",
            "road sign/motor_allowed/028_1_0111.png\n",
            "road sign/motor_allowed/028_1_0112.png\n",
            "road sign/motor_allowed/028_1_0113.png\n",
            "road sign/motor_allowed/028_1_0114.png\n",
            "road sign/motor_allowed/028_1_0115.png\n",
            "road sign/motor_allowed/028_1_0116.png\n",
            "road sign/motor_allowed/028_1_0117.png\n",
            "road sign/motor_allowed/028_1_0118.png\n",
            "road sign/motor_allowed/028_1_0119.png\n",
            "road sign/motor_allowed/028_1_0120.png\n",
            "road sign/motor_allowed/028_1_0121.png\n",
            "road sign/motor_allowed/028_1_0122.png\n",
            "road sign/motor_allowed/028_1_0123.png\n",
            "road sign/motor_allowed/028_1_0124.png\n",
            "road sign/motor_allowed/028_1_0125.png\n",
            "road sign/motor_allowed/028_1_0126.png\n",
            "road sign/motor_allowed/028_1_0127.png\n",
            "road sign/motor_allowed/028_1_0128.png\n",
            "road sign/motor_allowed/028_1_0129.png\n",
            "road sign/motor_allowed/028_1_0130.png\n",
            "road sign/motor_allowed/028_1_0131.png\n",
            "road sign/motor_allowed/028_1_0132.png\n",
            "road sign/motor_allowed/028_1_0133.png\n",
            "road sign/motor_allowed/028_1_0134.png\n",
            "road sign/motor_allowed/028_1_0135.png\n",
            "road sign/motor_allowed/028_1_0136.png\n",
            "road sign/motor_allowed/028_1_0137.png\n",
            "road sign/motor_allowed/028_1_0138.png\n",
            "road sign/motor_allowed/028_1_0139.png\n",
            "road sign/motor_allowed/028_1_0140.png\n",
            "road sign/motor_allowed/028_1_0141.png\n",
            "road sign/motor_allowed/028_1_0142.png\n",
            "road sign/motor_allowed/028_1_0143.png\n",
            "road sign/motor_allowed/028_1_0144.png\n",
            "road sign/motor_allowed/028_1_0145.png\n",
            "road sign/motor_allowed/028_1_0146.png\n",
            "road sign/motor_allowed/028_1_0147.png\n",
            "road sign/motor_allowed/028_1_0148.png\n",
            "road sign/motor_allowed/028_1_0149.png\n",
            "road sign/motor_allowed/028_1_0150.png\n",
            "road sign/motor_allowed/028_1_0151.png\n",
            "road sign/motor_allowed/028_1_0152.png\n",
            "road sign/motor_allowed/028_1_0153.png\n",
            "road sign/motor_allowed/028_1_0154.png\n",
            "road sign/motor_allowed/028_1_0155.png\n",
            "road sign/motor_allowed/028_1_0156.png\n",
            "road sign/motor_allowed/028_1_0157.png\n",
            "road sign/motor_allowed/028_1_0158.png\n",
            "road sign/motor_allowed/028_1_0159.png\n",
            "road sign/motor_allowed/028_1_0160.png\n",
            "road sign/motor_allowed/028_1_0161.png\n",
            "road sign/motor_allowed/028_1_0162.png\n",
            "road sign/motor_allowed/028_1_0163.png\n",
            "road sign/motor_allowed/028_1_0164.png\n",
            "road sign/motor_allowed/028_1_0165.png\n",
            "road sign/motor_allowed/028_1_0166.png\n",
            "road sign/motor_allowed/028_1_0167.png\n",
            "road sign/motor_allowed/028_1_0168.png\n",
            "road sign/motor_allowed/028_1_0169.png\n",
            "road sign/motor_allowed/028_1_0170.png\n",
            "road sign/motor_allowed/028_1_0171.png\n",
            "road sign/motor_allowed/028_1_0172.png\n",
            "road sign/motor_allowed/028_1_0173.png\n",
            "road sign/motor_allowed/028_1_0174.png\n",
            "road sign/motor_allowed/028_1_0175.png\n",
            "road sign/motor_allowed/028_1_0176.png\n",
            "road sign/motor_allowed/028_1_0177.png\n",
            "road sign/motor_allowed/028_1_0178.png\n",
            "road sign/motor_allowed/028_1_0179.png\n",
            "road sign/motor_allowed/028_1_0180.png\n",
            "road sign/motor_allowed/028_1_0181.png\n",
            "road sign/motor_allowed/028_1_0182.png\n",
            "road sign/motor_allowed/028_1_0183.png\n",
            "road sign/motor_allowed/028_1_0184.png\n",
            "road sign/motor_allowed/028_1_0185.png\n",
            "road sign/motor_allowed/028_1_0186.png\n",
            "road sign/motor_allowed/028_1_0187.png\n",
            "road sign/motor_allowed/028_1_0188.png\n",
            "road sign/motor_allowed/028_1_0189.png\n",
            "road sign/motor_allowed/028_1_0190.png\n",
            "road sign/motor_allowed/028_1_0191.png\n",
            "road sign/motor_allowed/028_1_0192.png\n",
            "road sign/motor_allowed/028_1_0193.png\n",
            "road sign/motor_allowed/028_1_0194.png\n",
            "road sign/motor_allowed/028_1_0195.png\n",
            "road sign/motor_allowed/028_1_0196.png\n",
            "road sign/motor_allowed/028_1_0197.png\n",
            "road sign/motor_allowed/028_1_0198.png\n",
            "road sign/motor_allowed/028_1_0199.png\n",
            "road sign/motor_allowed/028_1_0200.png\n",
            "road sign/motor_allowed/028_1_0201.png\n",
            "road sign/motor_allowed/028_1_0202.png\n",
            "road sign/motor_allowed/028_1_0203.png\n",
            "road sign/motor_allowed/028_1_0204.png\n",
            "road sign/motor_allowed/028_1_0205.png\n",
            "road sign/motor_allowed/028_1_0206.png\n",
            "road sign/motor_allowed/028_1_0207.png\n",
            "road sign/motor_allowed/028_1_0208.png\n",
            "road sign/motor_allowed/028_1_0209.png\n",
            "road sign/motor_allowed/028_1_0210.png\n",
            "road sign/motor_allowed/028_1_0211.png\n",
            "road sign/motor_allowed/028_1_0212.png\n",
            "road sign/motor_allowed/028_1_0213.png\n",
            "road sign/motor_allowed/028_1_0214.png\n",
            "road sign/motor_allowed/028_1_0215.png\n",
            "road sign/motor_allowed/028_1_0216.png\n",
            "road sign/motor_allowed/028_1_0217.png\n",
            "road sign/motor_allowed/028_1_0218.png\n",
            "road sign/motor_allowed/028_1_0219.png\n",
            "road sign/motor_allowed/028_1_0220.png\n",
            "road sign/motor_allowed/028_1_0221.png\n",
            "road sign/motor_allowed/028_1_0222.png\n"
          ]
        }
      ],
      "source": [
        "\n",
        "# List objects within the specified bucket and prefix\n",
        "response = s3.list_objects_v2(Bucket=bucket_name, Prefix=prefix)\n",
        "\n",
        "for obj in response.get('Contents', []):\n",
        "    print(obj['Key'])"
      ]
    },
    {
      "cell_type": "code",
      "execution_count": 4,
      "metadata": {
        "colab": {
          "base_uri": "https://localhost:8080/"
        },
        "id": "pwI4yTDdsWSh",
        "outputId": "e1ed5f13-f509-4d18-ceb8-d2ad4d7ca838"
      },
      "outputs": [
        {
          "name": "stdout",
          "output_type": "stream",
          "text": [
            "Downloaded road sign/motor_allowed/028_1_0180.png to /content/028_1_0180.png\n"
          ]
        }
      ],
      "source": [
        "# Specify the local directory where the file will be downloaded\n",
        "local_dir = '/content/'\n",
        "\n",
        "# Specify the file name you want to download\n",
        "file_name = 'road sign/motor_allowed/028_1_0180.png'\n",
        "local_path = os.path.join(local_dir, file_name.split('/')[-1])\n",
        "\n",
        "# Download the file\n",
        "try:\n",
        "    s3.download_file(bucket_name, file_name, local_path)\n",
        "    print(f\"Downloaded {file_name} to {local_path}\")\n",
        "except Exception as e:\n",
        "    print(f\"Error: {e}\")\n"
      ]
    },
    {
      "cell_type": "code",
      "execution_count": 5,
      "metadata": {
        "colab": {
          "base_uri": "https://localhost:8080/",
          "height": 406
        },
        "id": "MenVTeNgz6Z0",
        "outputId": "05f3b5f8-cb63-43ff-f681-9417276a2bde"
      },
      "outputs": [
        {
          "data": {
            "image/png": "[encoded data removed]",
            "text/plain": [
              "<Figure size 640x480 with 1 Axes>"
            ]
          },
          "metadata": {},
          "output_type": "display_data"
        }
      ],
      "source": [
        "# Load and display the image\n",
        "try:\n",
        "    img = Image.open(local_path)\n",
        "    plt.imshow(img)\n",
        "    plt.axis('off')\n",
        "    plt.show()\n",
        "except FileNotFoundError as e:\n",
        "    print(f\"File not found: {e}\")\n"
      ]
    },
    {
      "cell_type": "code",
      "execution_count": 6,
      "metadata": {
        "colab": {
          "base_uri": "https://localhost:8080/"
        },
        "id": "URTJvETP6vAd",
        "outputId": "eb0ed560-4615-4907-fcc0-1581e896a030"
      },
      "outputs": [
        {
          "name": "stdout",
          "output_type": "stream",
          "text": [
            "Requirement already satisfied: tensorflow in /usr/local/lib/python3.10/dist-packages (2.17.0)\n",
            "Requirement already satisfied: absl-py>=1.0.0 in /usr/local/lib/python3.10/dist-packages (from tensorflow) (1.4.0)\n",
            "Requirement already satisfied: astunparse>=1.6.0 in /usr/local/lib/python3.10/dist-packages (from tensorflow) (1.6.3)\n",
            "Requirement already satisfied: flatbuffers>=24.3.25 in /usr/local/lib/python3.10/dist-packages (from tensorflow) (24.3.25)\n",
            "Requirement already satisfied: gast!=0.5.0,!=0.5.1,!=0.5.2,>=0.2.1 in /usr/local/lib/python3.10/dist-packages (from tensorflow) (0.6.0)\n",
            "Requirement already satisfied: google-pasta>=0.1.1 in /usr/local/lib/python3.10/dist-packages (from tensorflow) (0.2.0)\n",
            "Requirement already satisfied: h5py>=3.10.0 in /usr/local/lib/python3.10/dist-packages (from tensorflow) (3.11.0)\n",
            "Requirement already satisfied: libclang>=13.0.0 in /usr/local/lib/python3.10/dist-packages (from tensorflow) (18.1.1)\n",
            "Requirement already satisfied: ml-dtypes<0.5.0,>=0.3.1 in /usr/local/lib/python3.10/dist-packages (from tensorflow) (0.4.0)\n",
            "Requirement already satisfied: opt-einsum>=2.3.2 in /usr/local/lib/python3.10/dist-packages (from tensorflow) (3.3.0)\n",
            "Requirement already satisfied: packaging in /usr/local/lib/python3.10/dist-packages (from tensorflow) (24.1)\n",
            "Requirement already satisfied: protobuf!=4.21.0,!=4.21.1,!=4.21.2,!=4.21.3,!=4.21.4,!=4.21.5,<5.0.0dev,>=3.20.3 in /usr/local/lib/python3.10/dist-packages (from tensorflow) (3.20.3)\n",
            "Requirement already satisfied: requests<3,>=2.21.0 in /usr/local/lib/python3.10/dist-packages (from tensorflow) (2.31.0)\n",
            "Requirement already satisfied: setuptools in /usr/local/lib/python3.10/dist-packages (from tensorflow) (71.0.4)\n",
            "Requirement already satisfied: six>=1.12.0 in /usr/local/lib/python3.10/dist-packages (from tensorflow) (1.16.0)\n",
            "Requirement already satisfied: termcolor>=1.1.0 in /usr/local/lib/python3.10/dist-packages (from tensorflow) (2.4.0)\n",
            "Requirement already satisfied: typing-extensions>=3.6.6 in /usr/local/lib/python3.10/dist-packages (from tensorflow) (4.12.2)\n",
            "Requirement already satisfied: wrapt>=1.11.0 in /usr/local/lib/python3.10/dist-packages (from tensorflow) (1.16.0)\n",
            "Requirement already satisfied: grpcio<2.0,>=1.24.3 in /usr/local/lib/python3.10/dist-packages (from tensorflow) (1.64.1)\n",
            "Requirement already satisfied: tensorboard<2.18,>=2.17 in /usr/local/lib/python3.10/dist-packages (from tensorflow) (2.17.0)\n",
            "Requirement already satisfied: keras>=3.2.0 in /usr/local/lib/python3.10/dist-packages (from tensorflow) (3.4.1)\n",
            "Requirement already satisfied: tensorflow-io-gcs-filesystem>=0.23.1 in /usr/local/lib/python3.10/dist-packages (from tensorflow) (0.37.1)\n",
            "Requirement already satisfied: numpy<2.0.0,>=1.23.5 in /usr/local/lib/python3.10/dist-packages (from tensorflow) (1.26.4)\n",
            "Requirement already satisfied: wheel<1.0,>=0.23.0 in /usr/local/lib/python3.10/dist-packages (from astunparse>=1.6.0->tensorflow) (0.43.0)\n",
            "Requirement already satisfied: rich in /usr/local/lib/python3.10/dist-packages (from keras>=3.2.0->tensorflow) (13.7.1)\n",
            "Requirement already satisfied: namex in /usr/local/lib/python3.10/dist-packages (from keras>=3.2.0->tensorflow) (0.0.8)\n",
            "Requirement already satisfied: optree in /usr/local/lib/python3.10/dist-packages (from keras>=3.2.0->tensorflow) (0.12.1)\n",
            "Requirement already satisfied: charset-normalizer<4,>=2 in /usr/local/lib/python3.10/dist-packages (from requests<3,>=2.21.0->tensorflow) (3.3.2)\n",
            "Requirement already satisfied: idna<4,>=2.5 in /usr/local/lib/python3.10/dist-packages (from requests<3,>=2.21.0->tensorflow) (3.7)\n",
            "Requirement already satisfied: urllib3<3,>=1.21.1 in /usr/local/lib/python3.10/dist-packages (from requests<3,>=2.21.0->tensorflow) (2.0.7)\n",
            "Requirement already satisfied: certifi>=2017.4.17 in /usr/local/lib/python3.10/dist-packages (from requests<3,>=2.21.0->tensorflow) (2024.7.4)\n",
            "Requirement already satisfied: markdown>=2.6.8 in /usr/local/lib/python3.10/dist-packages (from tensorboard<2.18,>=2.17->tensorflow) (3.6)\n",
            "Requirement already satisfied: tensorboard-data-server<0.8.0,>=0.7.0 in /usr/local/lib/python3.10/dist-packages (from tensorboard<2.18,>=2.17->tensorflow) (0.7.2)\n",
            "Requirement already satisfied: werkzeug>=1.0.1 in /usr/local/lib/python3.10/dist-packages (from tensorboard<2.18,>=2.17->tensorflow) (3.0.3)\n",
            "Requirement already satisfied: MarkupSafe>=2.1.1 in /usr/local/lib/python3.10/dist-packages (from werkzeug>=1.0.1->tensorboard<2.18,>=2.17->tensorflow) (2.1.5)\n",
            "Requirement already satisfied: markdown-it-py>=2.2.0 in /usr/local/lib/python3.10/dist-packages (from rich->keras>=3.2.0->tensorflow) (3.0.0)\n",
            "Requirement already satisfied: pygments<3.0.0,>=2.13.0 in /usr/local/lib/python3.10/dist-packages (from rich->keras>=3.2.0->tensorflow) (2.16.1)\n",
            "Requirement already satisfied: mdurl~=0.1 in /usr/local/lib/python3.10/dist-packages (from markdown-it-py>=2.2.0->rich->keras>=3.2.0->tensorflow) (0.1.2)\n"
          ]
        }
      ],
      "source": [
        "!pip install tensorflow\n"
      ]
    },
    {
      "cell_type": "code",
      "execution_count": 8,
      "metadata": {
        "colab": {
          "base_uri": "https://localhost:8080/"
        },
        "id": "S6hufwcbEhB5",
        "outputId": "3856f93a-455d-43b1-9da7-98d1486b31ce"
      },
      "outputs": [
        {
          "name": "stdout",
          "output_type": "stream",
          "text": [
            "Requirement already satisfied: boto3 in /usr/local/lib/python3.10/dist-packages (1.34.155)\n",
            "Requirement already satisfied: botocore<1.35.0,>=1.34.155 in /usr/local/lib/python3.10/dist-packages (from boto3) (1.34.155)\n",
            "Requirement already satisfied: jmespath<2.0.0,>=0.7.1 in /usr/local/lib/python3.10/dist-packages (from boto3) (1.0.1)\n",
            "Requirement already satisfied: s3transfer<0.11.0,>=0.10.0 in /usr/local/lib/python3.10/dist-packages (from boto3) (0.10.2)\n",
            "Requirement already satisfied: python-dateutil<3.0.0,>=2.1 in /usr/local/lib/python3.10/dist-packages (from botocore<1.35.0,>=1.34.155->boto3) (2.8.2)\n",
            "Requirement already satisfied: urllib3!=2.2.0,<3,>=1.25.4 in /usr/local/lib/python3.10/dist-packages (from botocore<1.35.0,>=1.34.155->boto3) (2.0.7)\n",
            "Requirement already satisfied: six>=1.5 in /usr/local/lib/python3.10/dist-packages (from python-dateutil<3.0.0,>=2.1->botocore<1.35.0,>=1.34.155->boto3) (1.16.0)\n",
            "Requirement already satisfied: tensorflow in /usr/local/lib/python3.10/dist-packages (2.17.0)\n",
            "Requirement already satisfied: absl-py>=1.0.0 in /usr/local/lib/python3.10/dist-packages (from tensorflow) (1.4.0)\n",
            "Requirement already satisfied: astunparse>=1.6.0 in /usr/local/lib/python3.10/dist-packages (from tensorflow) (1.6.3)\n",
            "Requirement already satisfied: flatbuffers>=24.3.25 in /usr/local/lib/python3.10/dist-packages (from tensorflow) (24.3.25)\n",
            "Requirement already satisfied: gast!=0.5.0,!=0.5.1,!=0.5.2,>=0.2.1 in /usr/local/lib/python3.10/dist-packages (from tensorflow) (0.6.0)\n",
            "Requirement already satisfied: google-pasta>=0.1.1 in /usr/local/lib/python3.10/dist-packages (from tensorflow) (0.2.0)\n",
            "Requirement already satisfied: h5py>=3.10.0 in /usr/local/lib/python3.10/dist-packages (from tensorflow) (3.11.0)\n",
            "Requirement already satisfied: libclang>=13.0.0 in /usr/local/lib/python3.10/dist-packages (from tensorflow) (18.1.1)\n",
            "Requirement already satisfied: ml-dtypes<0.5.0,>=0.3.1 in /usr/local/lib/python3.10/dist-packages (from tensorflow) (0.4.0)\n",
            "Requirement already satisfied: opt-einsum>=2.3.2 in /usr/local/lib/python3.10/dist-packages (from tensorflow) (3.3.0)\n",
            "Requirement already satisfied: packaging in /usr/local/lib/python3.10/dist-packages (from tensorflow) (24.1)\n",
            "Requirement already satisfied: protobuf!=4.21.0,!=4.21.1,!=4.21.2,!=4.21.3,!=4.21.4,!=4.21.5,<5.0.0dev,>=3.20.3 in /usr/local/lib/python3.10/dist-packages (from tensorflow) (3.20.3)\n",
            "Requirement already satisfied: requests<3,>=2.21.0 in /usr/local/lib/python3.10/dist-packages (from tensorflow) (2.31.0)\n",
            "Requirement already satisfied: setuptools in /usr/local/lib/python3.10/dist-packages (from tensorflow) (71.0.4)\n",
            "Requirement already satisfied: six>=1.12.0 in /usr/local/lib/python3.10/dist-packages (from tensorflow) (1.16.0)\n",
            "Requirement already satisfied: termcolor>=1.1.0 in /usr/local/lib/python3.10/dist-packages (from tensorflow) (2.4.0)\n",
            "Requirement already satisfied: typing-extensions>=3.6.6 in /usr/local/lib/python3.10/dist-packages (from tensorflow) (4.12.2)\n",
            "Requirement already satisfied: wrapt>=1.11.0 in /usr/local/lib/python3.10/dist-packages (from tensorflow) (1.16.0)\n",
            "Requirement already satisfied: grpcio<2.0,>=1.24.3 in /usr/local/lib/python3.10/dist-packages (from tensorflow) (1.64.1)\n",
            "Requirement already satisfied: tensorboard<2.18,>=2.17 in /usr/local/lib/python3.10/dist-packages (from tensorflow) (2.17.0)\n",
            "Requirement already satisfied: keras>=3.2.0 in /usr/local/lib/python3.10/dist-packages (from tensorflow) (3.4.1)\n",
            "Requirement already satisfied: tensorflow-io-gcs-filesystem>=0.23.1 in /usr/local/lib/python3.10/dist-packages (from tensorflow) (0.37.1)\n",
            "Requirement already satisfied: numpy<2.0.0,>=1.23.5 in /usr/local/lib/python3.10/dist-packages (from tensorflow) (1.26.4)\n",
            "Requirement already satisfied: wheel<1.0,>=0.23.0 in /usr/local/lib/python3.10/dist-packages (from astunparse>=1.6.0->tensorflow) (0.43.0)\n",
            "Requirement already satisfied: rich in /usr/local/lib/python3.10/dist-packages (from keras>=3.2.0->tensorflow) (13.7.1)\n",
            "Requirement already satisfied: namex in /usr/local/lib/python3.10/dist-packages (from keras>=3.2.0->tensorflow) (0.0.8)\n",
            "Requirement already satisfied: optree in /usr/local/lib/python3.10/dist-packages (from keras>=3.2.0->tensorflow) (0.12.1)\n",
            "Requirement already satisfied: charset-normalizer<4,>=2 in /usr/local/lib/python3.10/dist-packages (from requests<3,>=2.21.0->tensorflow) (3.3.2)\n",
            "Requirement already satisfied: idna<4,>=2.5 in /usr/local/lib/python3.10/dist-packages (from requests<3,>=2.21.0->tensorflow) (3.7)\n",
            "Requirement already satisfied: urllib3<3,>=1.21.1 in /usr/local/lib/python3.10/dist-packages (from requests<3,>=2.21.0->tensorflow) (2.0.7)\n",
            "Requirement already satisfied: certifi>=2017.4.17 in /usr/local/lib/python3.10/dist-packages (from requests<3,>=2.21.0->tensorflow) (2024.7.4)\n",
            "Requirement already satisfied: markdown>=2.6.8 in /usr/local/lib/python3.10/dist-packages (from tensorboard<2.18,>=2.17->tensorflow) (3.6)\n",
            "Requirement already satisfied: tensorboard-data-server<0.8.0,>=0.7.0 in /usr/local/lib/python3.10/dist-packages (from tensorboard<2.18,>=2.17->tensorflow) (0.7.2)\n",
            "Requirement already satisfied: werkzeug>=1.0.1 in /usr/local/lib/python3.10/dist-packages (from tensorboard<2.18,>=2.17->tensorflow) (3.0.3)\n",
            "Requirement already satisfied: MarkupSafe>=2.1.1 in /usr/local/lib/python3.10/dist-packages (from werkzeug>=1.0.1->tensorboard<2.18,>=2.17->tensorflow) (2.1.5)\n",
            "Requirement already satisfied: markdown-it-py>=2.2.0 in /usr/local/lib/python3.10/dist-packages (from rich->keras>=3.2.0->tensorflow) (3.0.0)\n",
            "Requirement already satisfied: pygments<3.0.0,>=2.13.0 in /usr/local/lib/python3.10/dist-packages (from rich->keras>=3.2.0->tensorflow) (2.16.1)\n",
            "Requirement already satisfied: mdurl~=0.1 in /usr/local/lib/python3.10/dist-packages (from markdown-it-py>=2.2.0->rich->keras>=3.2.0->tensorflow) (0.1.2)\n",
            "Requirement already satisfied: keras in /usr/local/lib/python3.10/dist-packages (3.4.1)\n",
            "Requirement already satisfied: absl-py in /usr/local/lib/python3.10/dist-packages (from keras) (1.4.0)\n",
            "Requirement already satisfied: numpy in /usr/local/lib/python3.10/dist-packages (from keras) (1.26.4)\n",
            "Requirement already satisfied: rich in /usr/local/lib/python3.10/dist-packages (from keras) (13.7.1)\n",
            "Requirement already satisfied: namex in /usr/local/lib/python3.10/dist-packages (from keras) (0.0.8)\n",
            "Requirement already satisfied: h5py in /usr/local/lib/python3.10/dist-packages (from keras) (3.11.0)\n",
            "Requirement already satisfied: optree in /usr/local/lib/python3.10/dist-packages (from keras) (0.12.1)\n",
            "Requirement already satisfied: ml-dtypes in /usr/local/lib/python3.10/dist-packages (from keras) (0.4.0)\n",
            "Requirement already satisfied: packaging in /usr/local/lib/python3.10/dist-packages (from keras) (24.1)\n",
            "Requirement already satisfied: typing-extensions>=4.5.0 in /usr/local/lib/python3.10/dist-packages (from optree->keras) (4.12.2)\n",
            "Requirement already satisfied: markdown-it-py>=2.2.0 in /usr/local/lib/python3.10/dist-packages (from rich->keras) (3.0.0)\n",
            "Requirement already satisfied: pygments<3.0.0,>=2.13.0 in /usr/local/lib/python3.10/dist-packages (from rich->keras) (2.16.1)\n",
            "Requirement already satisfied: mdurl~=0.1 in /usr/local/lib/python3.10/dist-packages (from markdown-it-py>=2.2.0->rich->keras) (0.1.2)\n",
            "Requirement already satisfied: opencv-python in /usr/local/lib/python3.10/dist-packages (4.10.0.84)\n",
            "Requirement already satisfied: numpy>=1.21.2 in /usr/local/lib/python3.10/dist-packages (from opencv-python) (1.26.4)\n",
            "Requirement already satisfied: pillow in /usr/local/lib/python3.10/dist-packages (9.4.0)\n"
          ]
        }
      ],
      "source": [
        "!pip install boto3\n",
        "!pip install tensorflow\n",
        "!pip install keras\n",
        "!pip install opencv-python\n",
        "!pip install pillow\n"
      ]
    },
    {
      "cell_type": "code",
      "execution_count": 9,
      "metadata": {
        "id": "46CqIwcWElid"
      },
      "outputs": [],
      "source": [
        "import boto3\n",
        "import os\n",
        "from PIL import Image\n",
        "from io import BytesIO\n",
        "\n",
        "# Initialize the S3 client\n",
        "s3 = boto3.client('s3')\n",
        "\n",
        "# Your S3 bucket details\n",
        "bucket_name = 'lntav'\n",
        "folder_name = 'road sign/'\n",
        "\n",
        "def download_images_from_s3(bucket_name, folder_name):\n",
        "    # List objects within the specified folder\n",
        "    response = s3.list_objects_v2(Bucket=bucket_name, Prefix=folder_name)\n",
        "    images = []\n",
        "    labels = []\n",
        "\n",
        "    # Iterate through the files in the folder\n",
        "    for obj in response.get('Contents', []):\n",
        "        key = obj['Key']\n",
        "        if key.endswith('.jpg') or key.endswith('.png'):  # Check for image files\n",
        "            # Download the image\n",
        "            img_obj = s3.get_object(Bucket=bucket_name, Key=key)\n",
        "            img_data = img_obj['Body'].read()\n",
        "            image = Image.open(BytesIO(img_data))\n",
        "            images.append(image)\n",
        "\n",
        "            # Extract label from the key (assuming folder structure represents labels)\n",
        "            label = key.split('/')[-2]\n",
        "            labels.append(label)\n",
        "\n",
        "    return images, labels\n",
        "\n",
        "# Download images and labels\n",
        "images, labels = download_images_from_s3(bucket_name, folder_name)\n"
      ]
    },
    {
      "cell_type": "code",
      "execution_count": 10,
      "metadata": {
        "id": "G75A5HvhEq84"
      },
      "outputs": [],
      "source": [
        "import numpy as np\n",
        "from tensorflow.keras.preprocessing.image import img_to_array\n",
        "\n",
        "# Resize images and convert to numpy arrays\n",
        "def preprocess_images(images):\n",
        "    processed_images = []\n",
        "    for img in images:\n",
        "        img = img.resize((224, 224))  # Resize images to 224x224\n",
        "        img_array = img_to_array(img)\n",
        "        processed_images.append(img_array)\n",
        "    return np.array(processed_images)\n",
        "\n",
        "# Preprocess images\n",
        "processed_images = preprocess_images(images)\n",
        "\n",
        "# Convert labels to one-hot encoding\n",
        "from sklearn.preprocessing import LabelEncoder\n",
        "from tensorflow.keras.utils import to_categorical\n",
        "\n",
        "label_encoder = LabelEncoder()\n",
        "encoded_labels = label_encoder.fit_transform(labels)\n",
        "one_hot_labels = to_categorical(encoded_labels)\n",
        "\n",
        "# Split data into training and validation sets\n",
        "from sklearn.model_selection import train_test_split\n",
        "\n",
        "X_train, X_val, y_train, y_val = train_test_split(processed_images, one_hot_labels, test_size=0.2, random_state=42)\n"
      ]
    },
    {
      "cell_type": "code",
      "execution_count": 11,
      "metadata": {
        "colab": {
          "base_uri": "https://localhost:8080/",
          "height": 531
        },
        "id": "uAxPeb88EsRg",
        "outputId": "01ea1087-6a7b-4a99-d84f-f8fa5066d988"
      },
      "outputs": [
        {
          "name": "stderr",
          "output_type": "stream",
          "text": [
            "/usr/local/lib/python3.10/dist-packages/keras/src/layers/convolutional/base_conv.py:107: UserWarning: Do not pass an `input_shape`/`input_dim` argument to a layer. When using Sequential models, prefer using an `Input(shape)` object as the first layer in the model instead.\n",
            "  super().__init__(activity_regularizer=activity_regularizer, **kwargs)\n"
          ]
        },
        {
          "data": {
            "text/html": [
              "<pre style=\"white-space:pre;overflow-x:auto;line-height:normal;font-family:Menlo,'DejaVu Sans Mono',consolas,'Courier New',monospace\"><span style=\"font-weight: bold\">Model: \"sequential\"</span>\n",
              "</pre>\n"
            ],
            "text/plain": [
              "\u001b[1mModel: \"sequential\"\u001b[0m\n"
            ]
          },
          "metadata": {},
          "output_type": "display_data"
        },
        {
          "data": {
            "text/html": [
              "<pre style=\"white-space:pre;overflow-x:auto;line-height:normal;font-family:Menlo,'DejaVu Sans Mono',consolas,'Courier New',monospace\">┏━━━━━━━━━━━━━━━━━━━━━━━━━━━━━━━━━━━━━━┳━━━━━━━━━━━━━━━━━━━━━━━━━━━━━┳━━━━━━━━━━━━━━━━━┓\n",
              "┃<span style=\"font-weight: bold\"> Layer (type)                         </span>┃<span style=\"font-weight: bold\"> Output Shape                </span>┃<span style=\"font-weight: bold\">         Param # </span>┃\n",
              "┡━━━━━━━━━━━━━━━━━━━━━━━━━━━━━━━━━━━━━━╇━━━━━━━━━━━━━━━━━━━━━━━━━━━━━╇━━━━━━━━━━━━━━━━━┩\n",
              "│ conv2d (<span style=\"color: #0087ff; text-decoration-color: #0087ff\">Conv2D</span>)                      │ (<span style=\"color: #00d7ff; text-decoration-color: #00d7ff\">None</span>, <span style=\"color: #00af00; text-decoration-color: #00af00\">222</span>, <span style=\"color: #00af00; text-decoration-color: #00af00\">222</span>, <span style=\"color: #00af00; text-decoration-color: #00af00\">32</span>)        │             <span style=\"color: #00af00; text-decoration-color: #00af00\">896</span> │\n",
              "├──────────────────────────────────────┼─────────────────────────────┼─────────────────┤\n",
              "│ max_pooling2d (<span style=\"color: #0087ff; text-decoration-color: #0087ff\">MaxPooling2D</span>)         │ (<span style=\"color: #00d7ff; text-decoration-color: #00d7ff\">None</span>, <span style=\"color: #00af00; text-decoration-color: #00af00\">111</span>, <span style=\"color: #00af00; text-decoration-color: #00af00\">111</span>, <span style=\"color: #00af00; text-decoration-color: #00af00\">32</span>)        │               <span style=\"color: #00af00; text-decoration-color: #00af00\">0</span> │\n",
              "├──────────────────────────────────────┼─────────────────────────────┼─────────────────┤\n",
              "│ conv2d_1 (<span style=\"color: #0087ff; text-decoration-color: #0087ff\">Conv2D</span>)                    │ (<span style=\"color: #00d7ff; text-decoration-color: #00d7ff\">None</span>, <span style=\"color: #00af00; text-decoration-color: #00af00\">109</span>, <span style=\"color: #00af00; text-decoration-color: #00af00\">109</span>, <span style=\"color: #00af00; text-decoration-color: #00af00\">64</span>)        │          <span style=\"color: #00af00; text-decoration-color: #00af00\">18,496</span> │\n",
              "├──────────────────────────────────────┼─────────────────────────────┼─────────────────┤\n",
              "│ max_pooling2d_1 (<span style=\"color: #0087ff; text-decoration-color: #0087ff\">MaxPooling2D</span>)       │ (<span style=\"color: #00d7ff; text-decoration-color: #00d7ff\">None</span>, <span style=\"color: #00af00; text-decoration-color: #00af00\">54</span>, <span style=\"color: #00af00; text-decoration-color: #00af00\">54</span>, <span style=\"color: #00af00; text-decoration-color: #00af00\">64</span>)          │               <span style=\"color: #00af00; text-decoration-color: #00af00\">0</span> │\n",
              "├──────────────────────────────────────┼─────────────────────────────┼─────────────────┤\n",
              "│ conv2d_2 (<span style=\"color: #0087ff; text-decoration-color: #0087ff\">Conv2D</span>)                    │ (<span style=\"color: #00d7ff; text-decoration-color: #00d7ff\">None</span>, <span style=\"color: #00af00; text-decoration-color: #00af00\">52</span>, <span style=\"color: #00af00; text-decoration-color: #00af00\">52</span>, <span style=\"color: #00af00; text-decoration-color: #00af00\">128</span>)         │          <span style=\"color: #00af00; text-decoration-color: #00af00\">73,856</span> │\n",
              "├──────────────────────────────────────┼─────────────────────────────┼─────────────────┤\n",
              "│ max_pooling2d_2 (<span style=\"color: #0087ff; text-decoration-color: #0087ff\">MaxPooling2D</span>)       │ (<span style=\"color: #00d7ff; text-decoration-color: #00d7ff\">None</span>, <span style=\"color: #00af00; text-decoration-color: #00af00\">26</span>, <span style=\"color: #00af00; text-decoration-color: #00af00\">26</span>, <span style=\"color: #00af00; text-decoration-color: #00af00\">128</span>)         │               <span style=\"color: #00af00; text-decoration-color: #00af00\">0</span> │\n",
              "├──────────────────────────────────────┼─────────────────────────────┼─────────────────┤\n",
              "│ flatten (<span style=\"color: #0087ff; text-decoration-color: #0087ff\">Flatten</span>)                    │ (<span style=\"color: #00d7ff; text-decoration-color: #00d7ff\">None</span>, <span style=\"color: #00af00; text-decoration-color: #00af00\">86528</span>)               │               <span style=\"color: #00af00; text-decoration-color: #00af00\">0</span> │\n",
              "├──────────────────────────────────────┼─────────────────────────────┼─────────────────┤\n",
              "│ dense (<span style=\"color: #0087ff; text-decoration-color: #0087ff\">Dense</span>)                        │ (<span style=\"color: #00d7ff; text-decoration-color: #00d7ff\">None</span>, <span style=\"color: #00af00; text-decoration-color: #00af00\">128</span>)                 │      <span style=\"color: #00af00; text-decoration-color: #00af00\">11,075,712</span> │\n",
              "├──────────────────────────────────────┼─────────────────────────────┼─────────────────┤\n",
              "│ dropout (<span style=\"color: #0087ff; text-decoration-color: #0087ff\">Dropout</span>)                    │ (<span style=\"color: #00d7ff; text-decoration-color: #00d7ff\">None</span>, <span style=\"color: #00af00; text-decoration-color: #00af00\">128</span>)                 │               <span style=\"color: #00af00; text-decoration-color: #00af00\">0</span> │\n",
              "├──────────────────────────────────────┼─────────────────────────────┼─────────────────┤\n",
              "│ dense_1 (<span style=\"color: #0087ff; text-decoration-color: #0087ff\">Dense</span>)                      │ (<span style=\"color: #00d7ff; text-decoration-color: #00d7ff\">None</span>, <span style=\"color: #00af00; text-decoration-color: #00af00\">10</span>)                  │           <span style=\"color: #00af00; text-decoration-color: #00af00\">1,290</span> │\n",
              "└──────────────────────────────────────┴─────────────────────────────┴─────────────────┘\n",
              "</pre>\n"
            ],
            "text/plain": [
              "┏━━━━━━━━━━━━━━━━━━━━━━━━━━━━━━━━━━━━━━┳━━━━━━━━━━━━━━━━━━━━━━━━━━━━━┳━━━━━━━━━━━━━━━━━┓\n",
              "┃\u001b[1m \u001b[0m\u001b[1mLayer (type)                        \u001b[0m\u001b[1m \u001b[0m┃\u001b[1m \u001b[0m\u001b[1mOutput Shape               \u001b[0m\u001b[1m \u001b[0m┃\u001b[1m \u001b[0m\u001b[1m        Param #\u001b[0m\u001b[1m \u001b[0m┃\n",
              "┡━━━━━━━━━━━━━━━━━━━━━━━━━━━━━━━━━━━━━━╇━━━━━━━━━━━━━━━━━━━━━━━━━━━━━╇━━━━━━━━━━━━━━━━━┩\n",
              "│ conv2d (\u001b[38;5;33mConv2D\u001b[0m)                      │ (\u001b[38;5;45mNone\u001b[0m, \u001b[38;5;34m222\u001b[0m, \u001b[38;5;34m222\u001b[0m, \u001b[38;5;34m32\u001b[0m)        │             \u001b[38;5;34m896\u001b[0m │\n",
              "├──────────────────────────────────────┼─────────────────────────────┼─────────────────┤\n",
              "│ max_pooling2d (\u001b[38;5;33mMaxPooling2D\u001b[0m)         │ (\u001b[38;5;45mNone\u001b[0m, \u001b[38;5;34m111\u001b[0m, \u001b[38;5;34m111\u001b[0m, \u001b[38;5;34m32\u001b[0m)        │               \u001b[38;5;34m0\u001b[0m │\n",
              "├──────────────────────────────────────┼─────────────────────────────┼─────────────────┤\n",
              "│ conv2d_1 (\u001b[38;5;33mConv2D\u001b[0m)                    │ (\u001b[38;5;45mNone\u001b[0m, \u001b[38;5;34m109\u001b[0m, \u001b[38;5;34m109\u001b[0m, \u001b[38;5;34m64\u001b[0m)        │          \u001b[38;5;34m18,496\u001b[0m │\n",
              "├──────────────────────────────────────┼─────────────────────────────┼─────────────────┤\n",
              "│ max_pooling2d_1 (\u001b[38;5;33mMaxPooling2D\u001b[0m)       │ (\u001b[38;5;45mNone\u001b[0m, \u001b[38;5;34m54\u001b[0m, \u001b[38;5;34m54\u001b[0m, \u001b[38;5;34m64\u001b[0m)          │               \u001b[38;5;34m0\u001b[0m │\n",
              "├──────────────────────────────────────┼─────────────────────────────┼─────────────────┤\n",
              "│ conv2d_2 (\u001b[38;5;33mConv2D\u001b[0m)                    │ (\u001b[38;5;45mNone\u001b[0m, \u001b[38;5;34m52\u001b[0m, \u001b[38;5;34m52\u001b[0m, \u001b[38;5;34m128\u001b[0m)         │          \u001b[38;5;34m73,856\u001b[0m │\n",
              "├──────────────────────────────────────┼─────────────────────────────┼─────────────────┤\n",
              "│ max_pooling2d_2 (\u001b[38;5;33mMaxPooling2D\u001b[0m)       │ (\u001b[38;5;45mNone\u001b[0m, \u001b[38;5;34m26\u001b[0m, \u001b[38;5;34m26\u001b[0m, \u001b[38;5;34m128\u001b[0m)         │               \u001b[38;5;34m0\u001b[0m │\n",
              "├──────────────────────────────────────┼─────────────────────────────┼─────────────────┤\n",
              "│ flatten (\u001b[38;5;33mFlatten\u001b[0m)                    │ (\u001b[38;5;45mNone\u001b[0m, \u001b[38;5;34m86528\u001b[0m)               │               \u001b[38;5;34m0\u001b[0m │\n",
              "├──────────────────────────────────────┼─────────────────────────────┼─────────────────┤\n",
              "│ dense (\u001b[38;5;33mDense\u001b[0m)                        │ (\u001b[38;5;45mNone\u001b[0m, \u001b[38;5;34m128\u001b[0m)                 │      \u001b[38;5;34m11,075,712\u001b[0m │\n",
              "├──────────────────────────────────────┼─────────────────────────────┼─────────────────┤\n",
              "│ dropout (\u001b[38;5;33mDropout\u001b[0m)                    │ (\u001b[38;5;45mNone\u001b[0m, \u001b[38;5;34m128\u001b[0m)                 │               \u001b[38;5;34m0\u001b[0m │\n",
              "├──────────────────────────────────────┼─────────────────────────────┼─────────────────┤\n",
              "│ dense_1 (\u001b[38;5;33mDense\u001b[0m)                      │ (\u001b[38;5;45mNone\u001b[0m, \u001b[38;5;34m10\u001b[0m)                  │           \u001b[38;5;34m1,290\u001b[0m │\n",
              "└──────────────────────────────────────┴─────────────────────────────┴─────────────────┘\n"
            ]
          },
          "metadata": {},
          "output_type": "display_data"
        },
        {
          "data": {
            "text/html": [
              "<pre style=\"white-space:pre;overflow-x:auto;line-height:normal;font-family:Menlo,'DejaVu Sans Mono',consolas,'Courier New',monospace\"><span style=\"font-weight: bold\"> Total params: </span><span style=\"color: #00af00; text-decoration-color: #00af00\">11,170,250</span> (42.61 MB)\n",
              "</pre>\n"
            ],
            "text/plain": [
              "\u001b[1m Total params: \u001b[0m\u001b[38;5;34m11,170,250\u001b[0m (42.61 MB)\n"
            ]
          },
          "metadata": {},
          "output_type": "display_data"
        },
        {
          "data": {
            "text/html": [
              "<pre style=\"white-space:pre;overflow-x:auto;line-height:normal;font-family:Menlo,'DejaVu Sans Mono',consolas,'Courier New',monospace\"><span style=\"font-weight: bold\"> Trainable params: </span><span style=\"color: #00af00; text-decoration-color: #00af00\">11,170,250</span> (42.61 MB)\n",
              "</pre>\n"
            ],
            "text/plain": [
              "\u001b[1m Trainable params: \u001b[0m\u001b[38;5;34m11,170,250\u001b[0m (42.61 MB)\n"
            ]
          },
          "metadata": {},
          "output_type": "display_data"
        },
        {
          "data": {
            "text/html": [
              "<pre style=\"white-space:pre;overflow-x:auto;line-height:normal;font-family:Menlo,'DejaVu Sans Mono',consolas,'Courier New',monospace\"><span style=\"font-weight: bold\"> Non-trainable params: </span><span style=\"color: #00af00; text-decoration-color: #00af00\">0</span> (0.00 B)\n",
              "</pre>\n"
            ],
            "text/plain": [
              "\u001b[1m Non-trainable params: \u001b[0m\u001b[38;5;34m0\u001b[0m (0.00 B)\n"
            ]
          },
          "metadata": {},
          "output_type": "display_data"
        }
      ],
      "source": [
        "import tensorflow as tf\n",
        "from tensorflow.keras.models import Sequential\n",
        "from tensorflow.keras.layers import Conv2D, MaxPooling2D, Flatten, Dense, Dropout\n",
        "\n",
        "# Build a simple CNN model\n",
        "def create_model():\n",
        "    model = Sequential()\n",
        "    model.add(Conv2D(32, (3, 3), activation='relu', input_shape=(224, 224, 3)))\n",
        "    model.add(MaxPooling2D((2, 2)))\n",
        "    model.add(Conv2D(64, (3, 3), activation='relu'))\n",
        "    model.add(MaxPooling2D((2, 2)))\n",
        "    model.add(Conv2D(128, (3, 3), activation='relu'))\n",
        "    model.add(MaxPooling2D((2, 2)))\n",
        "    model.add(Flatten())\n",
        "    model.add(Dense(128, activation='relu'))\n",
        "    model.add(Dropout(0.5))\n",
        "    model.add(Dense(len(label_encoder.classes_), activation='softmax'))\n",
        "\n",
        "    model.compile(optimizer='adam', loss='categorical_crossentropy', metrics=['accuracy'])\n",
        "    return model\n",
        "\n",
        "model = create_model()\n",
        "model.summary()\n"
      ]
    },
    {
      "cell_type": "code",
      "execution_count": 12,
      "metadata": {
        "colab": {
          "base_uri": "https://localhost:8080/"
        },
        "id": "xugSgiiuEzji",
        "outputId": "c0619c7d-9316-4758-f120-28390b865866"
      },
      "outputs": [
        {
          "name": "stdout",
          "output_type": "stream",
          "text": [
            "Epoch 1/10\n",
            "\u001b[1m25/25\u001b[0m \u001b[32m━━━━━━━━━━━━━━━━━━━━\u001b[0m\u001b[37m\u001b[0m \u001b[1m115s\u001b[0m 4s/step - accuracy: 0.2493 - loss: 133.0586 - val_accuracy: 0.5750 - val_loss: 1.5925\n",
            "Epoch 2/10\n",
            "\u001b[1m25/25\u001b[0m \u001b[32m━━━━━━━━━━━━━━━━━━━━\u001b[0m\u001b[37m\u001b[0m \u001b[1m100s\u001b[0m 4s/step - accuracy: 0.4344 - loss: 1.6850 - val_accuracy: 0.7500 - val_loss: 0.7184\n",
            "Epoch 3/10\n",
            "\u001b[1m25/25\u001b[0m \u001b[32m━━━━━━━━━━━━━━━━━━━━\u001b[0m\u001b[37m\u001b[0m \u001b[1m99s\u001b[0m 4s/step - accuracy: 0.7695 - loss: 0.6659 - val_accuracy: 0.8850 - val_loss: 0.3311\n",
            "Epoch 4/10\n",
            "\u001b[1m25/25\u001b[0m \u001b[32m━━━━━━━━━━━━━━━━━━━━\u001b[0m\u001b[37m\u001b[0m \u001b[1m142s\u001b[0m 4s/step - accuracy: 0.8704 - loss: 0.3997 - val_accuracy: 0.9250 - val_loss: 0.2651\n",
            "Epoch 5/10\n",
            "\u001b[1m25/25\u001b[0m \u001b[32m━━━━━━━━━━━━━━━━━━━━\u001b[0m\u001b[37m\u001b[0m \u001b[1m146s\u001b[0m 4s/step - accuracy: 0.8875 - loss: 0.3120 - val_accuracy: 0.9700 - val_loss: 0.1507\n",
            "Epoch 6/10\n",
            "\u001b[1m25/25\u001b[0m \u001b[32m━━━━━━━━━━━━━━━━━━━━\u001b[0m\u001b[37m\u001b[0m \u001b[1m138s\u001b[0m 4s/step - accuracy: 0.9296 - loss: 0.1950 - val_accuracy: 0.9700 - val_loss: 0.1047\n",
            "Epoch 7/10\n",
            "\u001b[1m25/25\u001b[0m \u001b[32m━━━━━━━━━━━━━━━━━━━━\u001b[0m\u001b[37m\u001b[0m \u001b[1m143s\u001b[0m 4s/step - accuracy: 0.9393 - loss: 0.1513 - val_accuracy: 0.9750 - val_loss: 0.1076\n",
            "Epoch 8/10\n",
            "\u001b[1m25/25\u001b[0m \u001b[32m━━━━━━━━━━━━━━━━━━━━\u001b[0m\u001b[37m\u001b[0m \u001b[1m140s\u001b[0m 4s/step - accuracy: 0.9600 - loss: 0.1345 - val_accuracy: 0.9800 - val_loss: 0.0560\n",
            "Epoch 9/10\n",
            "\u001b[1m25/25\u001b[0m \u001b[32m━━━━━━━━━━━━━━━━━━━━\u001b[0m\u001b[37m\u001b[0m \u001b[1m141s\u001b[0m 4s/step - accuracy: 0.9677 - loss: 0.1050 - val_accuracy: 0.9900 - val_loss: 0.0256\n",
            "Epoch 10/10\n",
            "\u001b[1m25/25\u001b[0m \u001b[32m━━━━━━━━━━━━━━━━━━━━\u001b[0m\u001b[37m\u001b[0m \u001b[1m101s\u001b[0m 4s/step - accuracy: 0.9652 - loss: 0.1023 - val_accuracy: 1.0000 - val_loss: 0.0279\n"
          ]
        }
      ],
      "source": [
        "# Train the model\n",
        "history = model.fit(X_train, y_train, epochs=10, validation_data=(X_val, y_val))\n"
      ]
    },
    {
      "cell_type": "code",
      "execution_count": 13,
      "metadata": {
        "colab": {
          "base_uri": "https://localhost:8080/"
        },
        "id": "WGZQvM5WE_EU",
        "outputId": "588804ef-bc34-4d6c-a2ab-692182b3e334"
      },
      "outputs": [
        {
          "name": "stderr",
          "output_type": "stream",
          "text": [
            "WARNING:absl:You are saving your model as an HDF5 file via `model.save()` or `keras.saving.save_model(model)`. This file format is considered legacy. We recommend using instead the native Keras format, e.g. `model.save('my_model.keras')` or `keras.saving.save_model(model, 'my_model.keras')`. \n"
          ]
        }
      ],
      "source": [
        "# Save the model to S3\n",
        "model_save_path = '/tmp/road_sign_model.h5'\n",
        "model.save(model_save_path)\n",
        "\n",
        "s3.upload_file(model_save_path, bucket_name, 'models/road_sign_model.h5')\n"
      ]
    },
    {
      "cell_type": "code",
      "execution_count": 14,
      "metadata": {
        "colab": {
          "base_uri": "https://localhost:8080/",
          "height": 775
        },
        "id": "CkCkAMidLyxU",
        "outputId": "e98e0dcc-ed2d-448f-cdc6-604abea25beb"
      },
      "outputs": [
        {
          "name": "stdout",
          "output_type": "stream",
          "text": [
            "Collecting s3fs\n",
            "  Downloading s3fs-2024.6.1-py3-none-any.whl.metadata (1.6 kB)\n",
            "Collecting aiobotocore<3.0.0,>=2.5.4 (from s3fs)\n",
            "  Downloading aiobotocore-2.13.1-py3-none-any.whl.metadata (22 kB)\n",
            "Requirement already satisfied: fsspec==2024.6.1.* in /usr/local/lib/python3.10/dist-packages (from s3fs) (2024.6.1)\n",
            "Requirement already satisfied: aiohttp!=4.0.0a0,!=4.0.0a1 in /usr/local/lib/python3.10/dist-packages (from s3fs) (3.10.0)\n",
            "Collecting botocore<1.34.132,>=1.34.70 (from aiobotocore<3.0.0,>=2.5.4->s3fs)\n",
            "  Downloading botocore-1.34.131-py3-none-any.whl.metadata (5.7 kB)\n",
            "Requirement already satisfied: wrapt<2.0.0,>=1.10.10 in /usr/local/lib/python3.10/dist-packages (from aiobotocore<3.0.0,>=2.5.4->s3fs) (1.16.0)\n",
            "Collecting aioitertools<1.0.0,>=0.5.1 (from aiobotocore<3.0.0,>=2.5.4->s3fs)\n",
            "  Downloading aioitertools-0.11.0-py3-none-any.whl.metadata (3.3 kB)\n",
            "Requirement already satisfied: aiohappyeyeballs>=2.3.0 in /usr/local/lib/python3.10/dist-packages (from aiohttp!=4.0.0a0,!=4.0.0a1->s3fs) (2.3.4)\n",
            "Requirement already satisfied: aiosignal>=1.1.2 in /usr/local/lib/python3.10/dist-packages (from aiohttp!=4.0.0a0,!=4.0.0a1->s3fs) (1.3.1)\n",
            "Requirement already satisfied: attrs>=17.3.0 in /usr/local/lib/python3.10/dist-packages (from aiohttp!=4.0.0a0,!=4.0.0a1->s3fs) (23.2.0)\n",
            "Requirement already satisfied: frozenlist>=1.1.1 in /usr/local/lib/python3.10/dist-packages (from aiohttp!=4.0.0a0,!=4.0.0a1->s3fs) (1.4.1)\n",
            "Requirement already satisfied: multidict<7.0,>=4.5 in /usr/local/lib/python3.10/dist-packages (from aiohttp!=4.0.0a0,!=4.0.0a1->s3fs) (6.0.5)\n",
            "Requirement already satisfied: yarl<2.0,>=1.0 in /usr/local/lib/python3.10/dist-packages (from aiohttp!=4.0.0a0,!=4.0.0a1->s3fs) (1.9.4)\n",
            "Requirement already satisfied: async-timeout<5.0,>=4.0 in /usr/local/lib/python3.10/dist-packages (from aiohttp!=4.0.0a0,!=4.0.0a1->s3fs) (4.0.3)\n",
            "Requirement already satisfied: jmespath<2.0.0,>=0.7.1 in /usr/local/lib/python3.10/dist-packages (from botocore<1.34.132,>=1.34.70->aiobotocore<3.0.0,>=2.5.4->s3fs) (1.0.1)\n",
            "Requirement already satisfied: python-dateutil<3.0.0,>=2.1 in /usr/local/lib/python3.10/dist-packages (from botocore<1.34.132,>=1.34.70->aiobotocore<3.0.0,>=2.5.4->s3fs) (2.8.2)\n",
            "Requirement already satisfied: urllib3!=2.2.0,<3,>=1.25.4 in /usr/local/lib/python3.10/dist-packages (from botocore<1.34.132,>=1.34.70->aiobotocore<3.0.0,>=2.5.4->s3fs) (2.0.7)\n",
            "Requirement already satisfied: idna>=2.0 in /usr/local/lib/python3.10/dist-packages (from yarl<2.0,>=1.0->aiohttp!=4.0.0a0,!=4.0.0a1->s3fs) (3.7)\n",
            "Requirement already satisfied: six>=1.5 in /usr/local/lib/python3.10/dist-packages (from python-dateutil<3.0.0,>=2.1->botocore<1.34.132,>=1.34.70->aiobotocore<3.0.0,>=2.5.4->s3fs) (1.16.0)\n",
            "Downloading s3fs-2024.6.1-py3-none-any.whl (29 kB)\n",
            "Downloading aiobotocore-2.13.1-py3-none-any.whl (76 kB)\n",
            "\u001b[2K   \u001b[90m━━━━━━━━━━━━━━━━━━━━━━━━━━━━━━━━━━━━━━━━\u001b[0m \u001b[32m76.9/76.9 kB\u001b[0m \u001b[31m5.8 MB/s\u001b[0m eta \u001b[36m0:00:00\u001b[0m\n",
            "\u001b[?25hDownloading aioitertools-0.11.0-py3-none-any.whl (23 kB)\n",
            "Downloading botocore-1.34.131-py3-none-any.whl (12.3 MB)\n",
            "\u001b[2K   \u001b[90m━━━━━━━━━━━━━━━━━━━━━━━━━━━━━━━━━━━━━━━━\u001b[0m \u001b[32m12.3/12.3 MB\u001b[0m \u001b[31m58.0 MB/s\u001b[0m eta \u001b[36m0:00:00\u001b[0m\n",
            "\u001b[?25hInstalling collected packages: aioitertools, botocore, aiobotocore, s3fs\n",
            "  Attempting uninstall: botocore\n",
            "    Found existing installation: botocore 1.34.155\n",
            "    Uninstalling botocore-1.34.155:\n",
            "      Successfully uninstalled botocore-1.34.155\n",
            "\u001b[31mERROR: pip's dependency resolver does not currently take into account all the packages that are installed. This behaviour is the source of the following dependency conflicts.\n",
            "boto3 1.34.155 requires botocore<1.35.0,>=1.34.155, but you have botocore 1.34.131 which is incompatible.\u001b[0m\u001b[31m\n",
            "\u001b[0mSuccessfully installed aiobotocore-2.13.1 aioitertools-0.11.0 botocore-1.34.131 s3fs-2024.6.1\n"
          ]
        },
        {
          "data": {
            "application/vnd.colab-display-data+json": {
              "id": "07f0ca6ed0744a7baf563a515edabc75",
              "pip_warning": {
                "packages": [
                  "botocore"
                ]
              }
            }
          },
          "metadata": {},
          "output_type": "display_data"
        }
      ],
      "source": [
        "pip install s3fs\n"
      ]
    },
    {
      "cell_type": "code",
      "execution_count": 15,
      "metadata": {
        "colab": {
          "base_uri": "https://localhost:8080/",
          "height": 408
        },
        "id": "KRts0-taL5e7",
        "outputId": "b23b3b2a-dbe8-4af9-8ebd-943513b319f6"
      },
      "outputs": [
        {
          "ename": "PermissionError",
          "evalue": "Forbidden",
          "output_type": "error",
          "traceback": [
            "\u001b[0;31m---------------------------------------------------------------------------\u001b[0m",
            "\u001b[0;31mClientError\u001b[0m                               Traceback (most recent call last)",
            "\u001b[0;32m/usr/local/lib/python3.10/dist-packages/s3fs/core.py\u001b[0m in \u001b[0;36m_error_wrapper\u001b[0;34m(func, args, kwargs, retries)\u001b[0m\n\u001b[1;32m    112\u001b[0m         \u001b[0;32mtry\u001b[0m\u001b[0;34m:\u001b[0m\u001b[0;34m\u001b[0m\u001b[0;34m\u001b[0m\u001b[0m\n\u001b[0;32m--> 113\u001b[0;31m             \u001b[0;32mreturn\u001b[0m \u001b[0;32mawait\u001b[0m \u001b[0mfunc\u001b[0m\u001b[0;34m(\u001b[0m\u001b[0;34m*\u001b[0m\u001b[0margs\u001b[0m\u001b[0;34m,\u001b[0m \u001b[0;34m**\u001b[0m\u001b[0mkwargs\u001b[0m\u001b[0;34m)\u001b[0m\u001b[0;34m\u001b[0m\u001b[0;34m\u001b[0m\u001b[0m\n\u001b[0m\u001b[1;32m    114\u001b[0m         \u001b[0;32mexcept\u001b[0m \u001b[0mS3_RETRYABLE_ERRORS\u001b[0m \u001b[0;32mas\u001b[0m \u001b[0me\u001b[0m\u001b[0;34m:\u001b[0m\u001b[0;34m\u001b[0m\u001b[0;34m\u001b[0m\u001b[0m\n",
            "\u001b[0;32m/usr/local/lib/python3.10/dist-packages/aiobotocore/client.py\u001b[0m in \u001b[0;36m_make_api_call\u001b[0;34m(self, operation_name, api_params)\u001b[0m\n\u001b[1;32m    410\u001b[0m             \u001b[0merror_class\u001b[0m \u001b[0;34m=\u001b[0m \u001b[0mself\u001b[0m\u001b[0;34m.\u001b[0m\u001b[0mexceptions\u001b[0m\u001b[0;34m.\u001b[0m\u001b[0mfrom_code\u001b[0m\u001b[0;34m(\u001b[0m\u001b[0merror_code\u001b[0m\u001b[0;34m)\u001b[0m\u001b[0;34m\u001b[0m\u001b[0;34m\u001b[0m\u001b[0m\n\u001b[0;32m--> 411\u001b[0;31m             \u001b[0;32mraise\u001b[0m \u001b[0merror_class\u001b[0m\u001b[0;34m(\u001b[0m\u001b[0mparsed_response\u001b[0m\u001b[0;34m,\u001b[0m \u001b[0moperation_name\u001b[0m\u001b[0;34m)\u001b[0m\u001b[0;34m\u001b[0m\u001b[0;34m\u001b[0m\u001b[0m\n\u001b[0m\u001b[1;32m    412\u001b[0m         \u001b[0;32melse\u001b[0m\u001b[0;34m:\u001b[0m\u001b[0;34m\u001b[0m\u001b[0;34m\u001b[0m\u001b[0m\n",
            "\u001b[0;31mClientError\u001b[0m: An error occurred (403) when calling the HeadObject operation: Forbidden",
            "\nThe above exception was the direct cause of the following exception:\n",
            "\u001b[0;31mPermissionError\u001b[0m                           Traceback (most recent call last)",
            "\u001b[0;32m<ipython-input-15-0d483f2d5470>\u001b[0m in \u001b[0;36m<cell line: 11>\u001b[0;34m()\u001b[0m\n\u001b[1;32m      9\u001b[0m \u001b[0;34m\u001b[0m\u001b[0m\n\u001b[1;32m     10\u001b[0m \u001b[0;31m# Load the model directly from S3\u001b[0m\u001b[0;34m\u001b[0m\u001b[0;34m\u001b[0m\u001b[0m\n\u001b[0;32m---> 11\u001b[0;31m \u001b[0;32mwith\u001b[0m \u001b[0ms3\u001b[0m\u001b[0;34m.\u001b[0m\u001b[0mopen\u001b[0m\u001b[0;34m(\u001b[0m\u001b[0ms3_path\u001b[0m\u001b[0;34m,\u001b[0m \u001b[0;34m'rb'\u001b[0m\u001b[0;34m)\u001b[0m \u001b[0;32mas\u001b[0m \u001b[0mmodel_file\u001b[0m\u001b[0;34m:\u001b[0m\u001b[0;34m\u001b[0m\u001b[0;34m\u001b[0m\u001b[0m\n\u001b[0m\u001b[1;32m     12\u001b[0m     \u001b[0mmodel\u001b[0m \u001b[0;34m=\u001b[0m \u001b[0mtf\u001b[0m\u001b[0;34m.\u001b[0m\u001b[0mkeras\u001b[0m\u001b[0;34m.\u001b[0m\u001b[0mmodels\u001b[0m\u001b[0;34m.\u001b[0m\u001b[0mload_model\u001b[0m\u001b[0;34m(\u001b[0m\u001b[0mmodel_file\u001b[0m\u001b[0;34m)\u001b[0m\u001b[0;34m\u001b[0m\u001b[0;34m\u001b[0m\u001b[0m\n\u001b[1;32m     13\u001b[0m \u001b[0;34m\u001b[0m\u001b[0m\n",
            "\u001b[0;32m/usr/local/lib/python3.10/dist-packages/fsspec/spec.py\u001b[0m in \u001b[0;36mopen\u001b[0;34m(self, path, mode, block_size, cache_options, compression, **kwargs)\u001b[0m\n\u001b[1;32m   1301\u001b[0m         \u001b[0;32melse\u001b[0m\u001b[0;34m:\u001b[0m\u001b[0;34m\u001b[0m\u001b[0;34m\u001b[0m\u001b[0m\n\u001b[1;32m   1302\u001b[0m             \u001b[0mac\u001b[0m \u001b[0;34m=\u001b[0m \u001b[0mkwargs\u001b[0m\u001b[0;34m.\u001b[0m\u001b[0mpop\u001b[0m\u001b[0;34m(\u001b[0m\u001b[0;34m\"autocommit\"\u001b[0m\u001b[0;34m,\u001b[0m \u001b[0;32mnot\u001b[0m \u001b[0mself\u001b[0m\u001b[0;34m.\u001b[0m\u001b[0m_intrans\u001b[0m\u001b[0;34m)\u001b[0m\u001b[0;34m\u001b[0m\u001b[0;34m\u001b[0m\u001b[0m\n\u001b[0;32m-> 1303\u001b[0;31m             f = self._open(\n\u001b[0m\u001b[1;32m   1304\u001b[0m                 \u001b[0mpath\u001b[0m\u001b[0;34m,\u001b[0m\u001b[0;34m\u001b[0m\u001b[0;34m\u001b[0m\u001b[0m\n\u001b[1;32m   1305\u001b[0m                 \u001b[0mmode\u001b[0m\u001b[0;34m=\u001b[0m\u001b[0mmode\u001b[0m\u001b[0;34m,\u001b[0m\u001b[0;34m\u001b[0m\u001b[0;34m\u001b[0m\u001b[0m\n",
            "\u001b[0;32m/usr/local/lib/python3.10/dist-packages/s3fs/core.py\u001b[0m in \u001b[0;36m_open\u001b[0;34m(self, path, mode, block_size, acl, version_id, fill_cache, cache_type, autocommit, size, requester_pays, cache_options, **kwargs)\u001b[0m\n\u001b[1;32m    686\u001b[0m             \u001b[0mcache_type\u001b[0m \u001b[0;34m=\u001b[0m \u001b[0mself\u001b[0m\u001b[0;34m.\u001b[0m\u001b[0mdefault_cache_type\u001b[0m\u001b[0;34m\u001b[0m\u001b[0;34m\u001b[0m\u001b[0m\n\u001b[1;32m    687\u001b[0m \u001b[0;34m\u001b[0m\u001b[0m\n\u001b[0;32m--> 688\u001b[0;31m         return S3File(\n\u001b[0m\u001b[1;32m    689\u001b[0m             \u001b[0mself\u001b[0m\u001b[0;34m,\u001b[0m\u001b[0;34m\u001b[0m\u001b[0;34m\u001b[0m\u001b[0m\n\u001b[1;32m    690\u001b[0m             \u001b[0mpath\u001b[0m\u001b[0;34m,\u001b[0m\u001b[0;34m\u001b[0m\u001b[0;34m\u001b[0m\u001b[0m\n",
            "\u001b[0;32m/usr/local/lib/python3.10/dist-packages/s3fs/core.py\u001b[0m in \u001b[0;36m__init__\u001b[0;34m(self, s3, path, mode, block_size, acl, version_id, fill_cache, s3_additional_kwargs, autocommit, cache_type, requester_pays, cache_options, size)\u001b[0m\n\u001b[1;32m   2180\u001b[0m                 \u001b[0mself\u001b[0m\u001b[0;34m.\u001b[0m\u001b[0mdetails\u001b[0m \u001b[0;34m=\u001b[0m \u001b[0ms3\u001b[0m\u001b[0;34m.\u001b[0m\u001b[0minfo\u001b[0m\u001b[0;34m(\u001b[0m\u001b[0mpath\u001b[0m\u001b[0;34m)\u001b[0m\u001b[0;34m\u001b[0m\u001b[0;34m\u001b[0m\u001b[0m\n\u001b[1;32m   2181\u001b[0m                 \u001b[0mself\u001b[0m\u001b[0;34m.\u001b[0m\u001b[0mversion_id\u001b[0m \u001b[0;34m=\u001b[0m \u001b[0mself\u001b[0m\u001b[0;34m.\u001b[0m\u001b[0mdetails\u001b[0m\u001b[0;34m.\u001b[0m\u001b[0mget\u001b[0m\u001b[0;34m(\u001b[0m\u001b[0;34m\"VersionId\"\u001b[0m\u001b[0;34m)\u001b[0m\u001b[0;34m\u001b[0m\u001b[0;34m\u001b[0m\u001b[0m\n\u001b[0;32m-> 2182\u001b[0;31m         super().__init__(\n\u001b[0m\u001b[1;32m   2183\u001b[0m             \u001b[0ms3\u001b[0m\u001b[0;34m,\u001b[0m\u001b[0;34m\u001b[0m\u001b[0;34m\u001b[0m\u001b[0m\n\u001b[1;32m   2184\u001b[0m             \u001b[0mpath\u001b[0m\u001b[0;34m,\u001b[0m\u001b[0;34m\u001b[0m\u001b[0;34m\u001b[0m\u001b[0m\n",
            "\u001b[0;32m/usr/local/lib/python3.10/dist-packages/fsspec/spec.py\u001b[0m in \u001b[0;36m__init__\u001b[0;34m(self, fs, path, mode, block_size, autocommit, cache_type, cache_options, size, **kwargs)\u001b[0m\n\u001b[1;32m   1740\u001b[0m                 \u001b[0mself\u001b[0m\u001b[0;34m.\u001b[0m\u001b[0msize\u001b[0m \u001b[0;34m=\u001b[0m \u001b[0msize\u001b[0m\u001b[0;34m\u001b[0m\u001b[0;34m\u001b[0m\u001b[0m\n\u001b[1;32m   1741\u001b[0m             \u001b[0;32melse\u001b[0m\u001b[0;34m:\u001b[0m\u001b[0;34m\u001b[0m\u001b[0;34m\u001b[0m\u001b[0m\n\u001b[0;32m-> 1742\u001b[0;31m                 \u001b[0mself\u001b[0m\u001b[0;34m.\u001b[0m\u001b[0msize\u001b[0m \u001b[0;34m=\u001b[0m \u001b[0mself\u001b[0m\u001b[0;34m.\u001b[0m\u001b[0mdetails\u001b[0m\u001b[0;34m[\u001b[0m\u001b[0;34m\"size\"\u001b[0m\u001b[0;34m]\u001b[0m\u001b[0;34m\u001b[0m\u001b[0;34m\u001b[0m\u001b[0m\n\u001b[0m\u001b[1;32m   1743\u001b[0m             self.cache = caches[cache_type](\n\u001b[1;32m   1744\u001b[0m                 \u001b[0mself\u001b[0m\u001b[0;34m.\u001b[0m\u001b[0mblocksize\u001b[0m\u001b[0;34m,\u001b[0m \u001b[0mself\u001b[0m\u001b[0;34m.\u001b[0m\u001b[0m_fetch_range\u001b[0m\u001b[0;34m,\u001b[0m \u001b[0mself\u001b[0m\u001b[0;34m.\u001b[0m\u001b[0msize\u001b[0m\u001b[0;34m,\u001b[0m \u001b[0;34m**\u001b[0m\u001b[0mcache_options\u001b[0m\u001b[0;34m\u001b[0m\u001b[0;34m\u001b[0m\u001b[0m\n",
            "\u001b[0;32m/usr/local/lib/python3.10/dist-packages/fsspec/spec.py\u001b[0m in \u001b[0;36mdetails\u001b[0;34m(self)\u001b[0m\n\u001b[1;32m   1753\u001b[0m     \u001b[0;32mdef\u001b[0m \u001b[0mdetails\u001b[0m\u001b[0;34m(\u001b[0m\u001b[0mself\u001b[0m\u001b[0;34m)\u001b[0m\u001b[0;34m:\u001b[0m\u001b[0;34m\u001b[0m\u001b[0;34m\u001b[0m\u001b[0m\n\u001b[1;32m   1754\u001b[0m         \u001b[0;32mif\u001b[0m \u001b[0mself\u001b[0m\u001b[0;34m.\u001b[0m\u001b[0m_details\u001b[0m \u001b[0;32mis\u001b[0m \u001b[0;32mNone\u001b[0m\u001b[0;34m:\u001b[0m\u001b[0;34m\u001b[0m\u001b[0;34m\u001b[0m\u001b[0m\n\u001b[0;32m-> 1755\u001b[0;31m             \u001b[0mself\u001b[0m\u001b[0;34m.\u001b[0m\u001b[0m_details\u001b[0m \u001b[0;34m=\u001b[0m \u001b[0mself\u001b[0m\u001b[0;34m.\u001b[0m\u001b[0mfs\u001b[0m\u001b[0;34m.\u001b[0m\u001b[0minfo\u001b[0m\u001b[0;34m(\u001b[0m\u001b[0mself\u001b[0m\u001b[0;34m.\u001b[0m\u001b[0mpath\u001b[0m\u001b[0;34m)\u001b[0m\u001b[0;34m\u001b[0m\u001b[0;34m\u001b[0m\u001b[0m\n\u001b[0m\u001b[1;32m   1756\u001b[0m         \u001b[0;32mreturn\u001b[0m \u001b[0mself\u001b[0m\u001b[0;34m.\u001b[0m\u001b[0m_details\u001b[0m\u001b[0;34m\u001b[0m\u001b[0;34m\u001b[0m\u001b[0m\n\u001b[1;32m   1757\u001b[0m \u001b[0;34m\u001b[0m\u001b[0m\n",
            "\u001b[0;32m/usr/local/lib/python3.10/dist-packages/fsspec/asyn.py\u001b[0m in \u001b[0;36mwrapper\u001b[0;34m(*args, **kwargs)\u001b[0m\n\u001b[1;32m    116\u001b[0m     \u001b[0;32mdef\u001b[0m \u001b[0mwrapper\u001b[0m\u001b[0;34m(\u001b[0m\u001b[0;34m*\u001b[0m\u001b[0margs\u001b[0m\u001b[0;34m,\u001b[0m \u001b[0;34m**\u001b[0m\u001b[0mkwargs\u001b[0m\u001b[0;34m)\u001b[0m\u001b[0;34m:\u001b[0m\u001b[0;34m\u001b[0m\u001b[0;34m\u001b[0m\u001b[0m\n\u001b[1;32m    117\u001b[0m         \u001b[0mself\u001b[0m \u001b[0;34m=\u001b[0m \u001b[0mobj\u001b[0m \u001b[0;32mor\u001b[0m \u001b[0margs\u001b[0m\u001b[0;34m[\u001b[0m\u001b[0;36m0\u001b[0m\u001b[0;34m]\u001b[0m\u001b[0;34m\u001b[0m\u001b[0;34m\u001b[0m\u001b[0m\n\u001b[0;32m--> 118\u001b[0;31m         \u001b[0;32mreturn\u001b[0m \u001b[0msync\u001b[0m\u001b[0;34m(\u001b[0m\u001b[0mself\u001b[0m\u001b[0;34m.\u001b[0m\u001b[0mloop\u001b[0m\u001b[0;34m,\u001b[0m \u001b[0mfunc\u001b[0m\u001b[0;34m,\u001b[0m \u001b[0;34m*\u001b[0m\u001b[0margs\u001b[0m\u001b[0;34m,\u001b[0m \u001b[0;34m**\u001b[0m\u001b[0mkwargs\u001b[0m\u001b[0;34m)\u001b[0m\u001b[0;34m\u001b[0m\u001b[0;34m\u001b[0m\u001b[0m\n\u001b[0m\u001b[1;32m    119\u001b[0m \u001b[0;34m\u001b[0m\u001b[0m\n\u001b[1;32m    120\u001b[0m     \u001b[0;32mreturn\u001b[0m \u001b[0mwrapper\u001b[0m\u001b[0;34m\u001b[0m\u001b[0;34m\u001b[0m\u001b[0m\n",
            "\u001b[0;32m/usr/local/lib/python3.10/dist-packages/fsspec/asyn.py\u001b[0m in \u001b[0;36msync\u001b[0;34m(loop, func, timeout, *args, **kwargs)\u001b[0m\n\u001b[1;32m    101\u001b[0m         \u001b[0;32mraise\u001b[0m \u001b[0mFSTimeoutError\u001b[0m \u001b[0;32mfrom\u001b[0m \u001b[0mreturn_result\u001b[0m\u001b[0;34m\u001b[0m\u001b[0;34m\u001b[0m\u001b[0m\n\u001b[1;32m    102\u001b[0m     \u001b[0;32melif\u001b[0m \u001b[0misinstance\u001b[0m\u001b[0;34m(\u001b[0m\u001b[0mreturn_result\u001b[0m\u001b[0;34m,\u001b[0m \u001b[0mBaseException\u001b[0m\u001b[0;34m)\u001b[0m\u001b[0;34m:\u001b[0m\u001b[0;34m\u001b[0m\u001b[0;34m\u001b[0m\u001b[0m\n\u001b[0;32m--> 103\u001b[0;31m         \u001b[0;32mraise\u001b[0m \u001b[0mreturn_result\u001b[0m\u001b[0;34m\u001b[0m\u001b[0;34m\u001b[0m\u001b[0m\n\u001b[0m\u001b[1;32m    104\u001b[0m     \u001b[0;32melse\u001b[0m\u001b[0;34m:\u001b[0m\u001b[0;34m\u001b[0m\u001b[0;34m\u001b[0m\u001b[0m\n\u001b[1;32m    105\u001b[0m         \u001b[0;32mreturn\u001b[0m \u001b[0mreturn_result\u001b[0m\u001b[0;34m\u001b[0m\u001b[0;34m\u001b[0m\u001b[0m\n",
            "\u001b[0;32m/usr/local/lib/python3.10/dist-packages/fsspec/asyn.py\u001b[0m in \u001b[0;36m_runner\u001b[0;34m(event, coro, result, timeout)\u001b[0m\n\u001b[1;32m     54\u001b[0m         \u001b[0mcoro\u001b[0m \u001b[0;34m=\u001b[0m \u001b[0masyncio\u001b[0m\u001b[0;34m.\u001b[0m\u001b[0mwait_for\u001b[0m\u001b[0;34m(\u001b[0m\u001b[0mcoro\u001b[0m\u001b[0;34m,\u001b[0m \u001b[0mtimeout\u001b[0m\u001b[0;34m=\u001b[0m\u001b[0mtimeout\u001b[0m\u001b[0;34m)\u001b[0m\u001b[0;34m\u001b[0m\u001b[0;34m\u001b[0m\u001b[0m\n\u001b[1;32m     55\u001b[0m     \u001b[0;32mtry\u001b[0m\u001b[0;34m:\u001b[0m\u001b[0;34m\u001b[0m\u001b[0;34m\u001b[0m\u001b[0m\n\u001b[0;32m---> 56\u001b[0;31m         \u001b[0mresult\u001b[0m\u001b[0;34m[\u001b[0m\u001b[0;36m0\u001b[0m\u001b[0;34m]\u001b[0m \u001b[0;34m=\u001b[0m \u001b[0;32mawait\u001b[0m \u001b[0mcoro\u001b[0m\u001b[0;34m\u001b[0m\u001b[0;34m\u001b[0m\u001b[0m\n\u001b[0m\u001b[1;32m     57\u001b[0m     \u001b[0;32mexcept\u001b[0m \u001b[0mException\u001b[0m \u001b[0;32mas\u001b[0m \u001b[0mex\u001b[0m\u001b[0;34m:\u001b[0m\u001b[0;34m\u001b[0m\u001b[0;34m\u001b[0m\u001b[0m\n\u001b[1;32m     58\u001b[0m         \u001b[0mresult\u001b[0m\u001b[0;34m[\u001b[0m\u001b[0;36m0\u001b[0m\u001b[0;34m]\u001b[0m \u001b[0;34m=\u001b[0m \u001b[0mex\u001b[0m\u001b[0;34m\u001b[0m\u001b[0;34m\u001b[0m\u001b[0m\n",
            "\u001b[0;32m/usr/local/lib/python3.10/dist-packages/s3fs/core.py\u001b[0m in \u001b[0;36m_info\u001b[0;34m(self, path, bucket, key, refresh, version_id)\u001b[0m\n\u001b[1;32m   1372\u001b[0m         \u001b[0;32mif\u001b[0m \u001b[0mkey\u001b[0m\u001b[0;34m:\u001b[0m\u001b[0;34m\u001b[0m\u001b[0;34m\u001b[0m\u001b[0m\n\u001b[1;32m   1373\u001b[0m             \u001b[0;32mtry\u001b[0m\u001b[0;34m:\u001b[0m\u001b[0;34m\u001b[0m\u001b[0;34m\u001b[0m\u001b[0m\n\u001b[0;32m-> 1374\u001b[0;31m                 out = await self._call_s3(\n\u001b[0m\u001b[1;32m   1375\u001b[0m                     \u001b[0;34m\"head_object\"\u001b[0m\u001b[0;34m,\u001b[0m\u001b[0;34m\u001b[0m\u001b[0;34m\u001b[0m\u001b[0m\n\u001b[1;32m   1376\u001b[0m                     \u001b[0mself\u001b[0m\u001b[0;34m.\u001b[0m\u001b[0mkwargs\u001b[0m\u001b[0;34m,\u001b[0m\u001b[0;34m\u001b[0m\u001b[0;34m\u001b[0m\u001b[0m\n",
            "\u001b[0;32m/usr/local/lib/python3.10/dist-packages/s3fs/core.py\u001b[0m in \u001b[0;36m_call_s3\u001b[0;34m(self, method, *akwarglist, **kwargs)\u001b[0m\n\u001b[1;32m    363\u001b[0m         \u001b[0mlogger\u001b[0m\u001b[0;34m.\u001b[0m\u001b[0mdebug\u001b[0m\u001b[0;34m(\u001b[0m\u001b[0;34m\"CALL: %s - %s - %s\"\u001b[0m\u001b[0;34m,\u001b[0m \u001b[0mmethod\u001b[0m\u001b[0;34m.\u001b[0m\u001b[0m__name__\u001b[0m\u001b[0;34m,\u001b[0m \u001b[0makwarglist\u001b[0m\u001b[0;34m,\u001b[0m \u001b[0mkw2\u001b[0m\u001b[0;34m)\u001b[0m\u001b[0;34m\u001b[0m\u001b[0;34m\u001b[0m\u001b[0m\n\u001b[1;32m    364\u001b[0m         \u001b[0madditional_kwargs\u001b[0m \u001b[0;34m=\u001b[0m \u001b[0mself\u001b[0m\u001b[0;34m.\u001b[0m\u001b[0m_get_s3_method_kwargs\u001b[0m\u001b[0;34m(\u001b[0m\u001b[0mmethod\u001b[0m\u001b[0;34m,\u001b[0m \u001b[0;34m*\u001b[0m\u001b[0makwarglist\u001b[0m\u001b[0;34m,\u001b[0m \u001b[0;34m**\u001b[0m\u001b[0mkwargs\u001b[0m\u001b[0;34m)\u001b[0m\u001b[0;34m\u001b[0m\u001b[0;34m\u001b[0m\u001b[0m\n\u001b[0;32m--> 365\u001b[0;31m         return await _error_wrapper(\n\u001b[0m\u001b[1;32m    366\u001b[0m             \u001b[0mmethod\u001b[0m\u001b[0;34m,\u001b[0m \u001b[0mkwargs\u001b[0m\u001b[0;34m=\u001b[0m\u001b[0madditional_kwargs\u001b[0m\u001b[0;34m,\u001b[0m \u001b[0mretries\u001b[0m\u001b[0;34m=\u001b[0m\u001b[0mself\u001b[0m\u001b[0;34m.\u001b[0m\u001b[0mretries\u001b[0m\u001b[0;34m\u001b[0m\u001b[0;34m\u001b[0m\u001b[0m\n\u001b[1;32m    367\u001b[0m         )\n",
            "\u001b[0;32m/usr/local/lib/python3.10/dist-packages/s3fs/core.py\u001b[0m in \u001b[0;36m_error_wrapper\u001b[0;34m(func, args, kwargs, retries)\u001b[0m\n\u001b[1;32m    143\u001b[0m             \u001b[0merr\u001b[0m \u001b[0;34m=\u001b[0m \u001b[0me\u001b[0m\u001b[0;34m\u001b[0m\u001b[0;34m\u001b[0m\u001b[0m\n\u001b[1;32m    144\u001b[0m     \u001b[0merr\u001b[0m \u001b[0;34m=\u001b[0m \u001b[0mtranslate_boto_error\u001b[0m\u001b[0;34m(\u001b[0m\u001b[0merr\u001b[0m\u001b[0;34m)\u001b[0m\u001b[0;34m\u001b[0m\u001b[0;34m\u001b[0m\u001b[0m\n\u001b[0;32m--> 145\u001b[0;31m     \u001b[0;32mraise\u001b[0m \u001b[0merr\u001b[0m\u001b[0;34m\u001b[0m\u001b[0;34m\u001b[0m\u001b[0m\n\u001b[0m\u001b[1;32m    146\u001b[0m \u001b[0;34m\u001b[0m\u001b[0m\n\u001b[1;32m    147\u001b[0m \u001b[0;34m\u001b[0m\u001b[0m\n",
            "\u001b[0;31mPermissionError\u001b[0m: Forbidden"
          ]
        }
      ],
      "source": [
        "import tensorflow as tf\n",
        "import s3fs\n",
        "\n",
        "# Initialize the S3 file system\n",
        "s3 = s3fs.S3FileSystem()\n",
        "\n",
        "# Define the S3 path to your model\n",
        "s3_path = 's3://your-bucket-name/models/road_sign_model.h5'\n",
        "\n",
        "# Load the model directly from S3\n",
        "with s3.open(s3_path, 'rb') as model_file:\n",
        "    model = tf.keras.models.load_model(model_file)\n",
        "\n",
        "print('Model loaded successfully from S3')\n"
      ]
    },
    {
      "cell_type": "code",
      "execution_count": 17,
      "metadata": {
        "colab": {
          "base_uri": "https://localhost:8080/",
          "height": 416,
          "referenced_widgets": [
            "93f73145979c4e979896eadab458ddab",
            "b03ba69ef5374c628969dba1eac15cc4",
            "49568e4ba2934689a1db70cee954f22a"
          ]
        },
        "id": "k0M9VYhGMsez",
        "outputId": "6fc55f1e-e8f1-40f5-8cbe-c6bd9b610139"
      },
      "outputs": [
        {
          "name": "stderr",
          "output_type": "stream",
          "text": [
            "WARNING:absl:Compiled the loaded model, but the compiled metrics have yet to be built. `model.compile_metrics` will be empty until you train or evaluate the model.\n"
          ]
        },
        {
          "name": "stdout",
          "output_type": "stream",
          "text": [
            "Model loaded successfully\n"
          ]
        },
        {
          "data": {
            "application/vnd.jupyter.widget-view+json": {
              "model_id": "93f73145979c4e979896eadab458ddab",
              "version_major": 2,
              "version_minor": 0
            },
            "text/plain": [
              "FileUpload(value={}, accept='image/*', description='Upload')"
            ]
          },
          "metadata": {},
          "output_type": "display_data"
        },
        {
          "name": "stdout",
          "output_type": "stream",
          "text": [
            "\u001b[1m1/1\u001b[0m \u001b[32m━━━━━━━━━━━━━━━━━━━━\u001b[0m\u001b[37m\u001b[0m \u001b[1m0s\u001b[0m 128ms/step\n",
            "Predicted class: [9]\n",
            "\u001b[1m1/1\u001b[0m \u001b[32m━━━━━━━━━━━━━━━━━━━━\u001b[0m\u001b[37m\u001b[0m \u001b[1m0s\u001b[0m 52ms/step\n",
            "Predicted class: [2]\n",
            "\u001b[1m1/1\u001b[0m \u001b[32m━━━━━━━━━━━━━━━━━━━━\u001b[0m\u001b[37m\u001b[0m \u001b[1m0s\u001b[0m 62ms/step\n",
            "Predicted class: [9]\n",
            "\u001b[1m1/1\u001b[0m \u001b[32m━━━━━━━━━━━━━━━━━━━━\u001b[0m\u001b[37m\u001b[0m \u001b[1m0s\u001b[0m 52ms/step\n",
            "Predicted class: [9]\n",
            "\u001b[1m1/1\u001b[0m \u001b[32m━━━━━━━━━━━━━━━━━━━━\u001b[0m\u001b[37m\u001b[0m \u001b[1m0s\u001b[0m 49ms/step\n",
            "Predicted class: [9]\n",
            "\u001b[1m1/1\u001b[0m \u001b[32m━━━━━━━━━━━━━━━━━━━━\u001b[0m\u001b[37m\u001b[0m \u001b[1m0s\u001b[0m 51ms/step\n",
            "Predicted class: [3]\n",
            "\u001b[1m1/1\u001b[0m \u001b[32m━━━━━━━━━━━━━━━━━━━━\u001b[0m\u001b[37m\u001b[0m \u001b[1m0s\u001b[0m 50ms/step\n",
            "Predicted class: [9]\n",
            "\u001b[1m1/1\u001b[0m \u001b[32m━━━━━━━━━━━━━━━━━━━━\u001b[0m\u001b[37m\u001b[0m \u001b[1m0s\u001b[0m 47ms/step\n",
            "Predicted class: [9]\n",
            "\u001b[1m1/1\u001b[0m \u001b[32m━━━━━━━━━━━━━━━━━━━━\u001b[0m\u001b[37m\u001b[0m \u001b[1m0s\u001b[0m 49ms/step\n",
            "Predicted class: [9]\n"
          ]
        }
      ],
      "source": [
        "import tensorflow as tf\n",
        "from tensorflow.keras.preprocessing import image\n",
        "import numpy as np\n",
        "import io\n",
        "from PIL import Image\n",
        "import ipywidgets as widgets\n",
        "from IPython.display import display\n",
        "\n",
        "# Load the model\n",
        "model_path = '/content/road_sign_model.h5'\n",
        "model = tf.keras.models.load_model(model_path)\n",
        "print('Model loaded successfully')\n",
        "\n",
        "# Function to preprocess the uploaded image\n",
        "def preprocess_image(img):\n",
        "    img = img.resize((224, 224))  # Resize to the model input size\n",
        "    img_array = np.array(img)  # Convert to numpy array\n",
        "    img_array = np.expand_dims(img_array, axis=0)  # Add batch dimension\n",
        "    img_array = img_array / 255.0  # Normalize to [0, 1]\n",
        "    return img_array\n",
        "\n",
        "# Function to handle the uploaded image\n",
        "def on_upload_change(change):\n",
        "    uploaded_file = change['new']\n",
        "    for name, file in uploaded_file.items():\n",
        "        img = Image.open(io.BytesIO(file['content']))  # Open the image\n",
        "        img_array = preprocess_image(img)  # Preprocess the image\n",
        "\n",
        "        # Make prediction\n",
        "        predictions = model.predict(img_array)\n",
        "        predicted_class = np.argmax(predictions, axis=1)\n",
        "        print(f'Predicted class: {predicted_class}')\n",
        "\n",
        "# Create an upload widget\n",
        "upload_widget = widgets.FileUpload(\n",
        "    accept='image/*',  # Accept image files\n",
        "    multiple=False  # Only allow single file upload\n",
        ")\n",
        "upload_widget.observe(on_upload_change, names='value')\n",
        "\n",
        "# Display the upload widget\n",
        "display(upload_widget)\n"
      ]
    },
    {
      "cell_type": "code",
      "execution_count": 18,
      "metadata": {
        "colab": {
          "base_uri": "https://localhost:8080/"
        },
        "id": "QcHTQhvwT3BT",
        "outputId": "36c3c33b-fdfd-4429-ee59-315acb8b7b43"
      },
      "outputs": [
        {
          "name": "stdout",
          "output_type": "stream",
          "text": [
            "Total number of images in bucket \"lntav\": 3928\n"
          ]
        }
      ],
      "source": [
        "import boto3\n",
        "\n",
        "# Initialize a session using Amazon S3\n",
        "s3 = boto3.client('s3')\n",
        "\n",
        "# Define the bucket name\n",
        "bucket_name = 'lntav'\n",
        "\n",
        "def count_images_in_s3(bucket_name):\n",
        "    # Initialize the S3 resource\n",
        "    s3_resource = boto3.resource('s3')\n",
        "    bucket = s3_resource.Bucket(bucket_name)\n",
        "\n",
        "    # Initialize the count\n",
        "    image_count = 0\n",
        "\n",
        "    # List objects in the bucket\n",
        "    for obj in bucket.objects.all():\n",
        "        # Check if the object is an image (e.g., with common image extensions)\n",
        "        if obj.key.lower().endswith(('.png', '.jpg', '.jpeg', '.gif', '.bmp', '.tiff')):\n",
        "            image_count += 1\n",
        "\n",
        "    return image_count\n",
        "\n",
        "# Get the total number of images\n",
        "total_images = count_images_in_s3(bucket_name)\n",
        "print(f'Total number of images in bucket \"{bucket_name}\": {total_images}')\n"
      ]
    },
    {
      "cell_type": "code",
      "execution_count": 19,
      "metadata": {
        "colab": {
          "base_uri": "https://localhost:8080/"
        },
        "id": "0GuhCE_zT-Ms",
        "outputId": "d1e50cfc-fdf2-4289-e0fc-a3b080a4a178"
      },
      "outputs": [
        {
          "name": "stdout",
          "output_type": "stream",
          "text": [
            "Total number of images in \"road sign/\" of bucket \"lntav\": 3928\n"
          ]
        }
      ],
      "source": [
        "import boto3\n",
        "\n",
        "# Initialize the S3 client\n",
        "s3 = boto3.client('s3')\n",
        "\n",
        "# Define the bucket name and prefix (directory)\n",
        "bucket_name = 'lntav'\n",
        "prefix = 'road sign/'\n",
        "\n",
        "def count_images_in_s3(bucket_name, prefix):\n",
        "    # Initialize the count\n",
        "    image_count = 0\n",
        "\n",
        "    # List objects with the specified prefix\n",
        "    paginator = s3.get_paginator('list_objects_v2')\n",
        "    for page in paginator.paginate(Bucket=bucket_name, Prefix=prefix):\n",
        "        # Check if 'Contents' is in the page to avoid KeyError\n",
        "        if 'Contents' in page:\n",
        "            for obj in page['Contents']:\n",
        "                # Check if the object is an image (e.g., with common image extensions)\n",
        "                if obj['Key'].lower().endswith(('.png', '.jpg', '.jpeg', '.gif', '.bmp', '.tiff')):\n",
        "                    image_count += 1\n",
        "\n",
        "    return image_count\n",
        "\n",
        "# Get the total number of images\n",
        "total_images = count_images_in_s3(bucket_name, prefix)\n",
        "print(f'Total number of images in \"{prefix}\" of bucket \"{bucket_name}\": {total_images}')\n"
      ]
    }
  ],
  "metadata": {
    "colab": {
      "provenance": []
    },
    "kernelspec": {
      "display_name": "Python 3",
      "name": "python3"
    },
    "language_info": {
      "name": "python"
    },
    "widgets": {
      "application/vnd.jupyter.widget-state+json": {
        "49568e4ba2934689a1db70cee954f22a": {
          "model_module": "@jupyter-widgets/controls",
          "model_module_version": "1.5.0",
          "model_name": "ButtonStyleModel",
          "state": {
            "_model_module": "@jupyter-widgets/controls",
            "_model_module_version": "1.5.0",
            "_model_name": "ButtonStyleModel",
            "_view_count": null,
            "_view_module": "@jupyter-widgets/base",
            "_view_module_version": "1.2.0",
            "_view_name": "StyleView",
            "button_color": null,
            "font_weight": ""
          }
        },
        "93f73145979c4e979896eadab458ddab": {
          "model_module": "@jupyter-widgets/controls",
          "model_module_version": "1.5.0",
          "model_name": "FileUploadModel",
          "state": {
            "_counter": 9,
            "_dom_classes": [],
            "_model_module": "@jupyter-widgets/controls",
            "_model_module_version": "1.5.0",
            "_model_name": "FileUploadModel",
            "_view_count": null,
            "_view_module": "@jupyter-widgets/controls",
            "_view_module_version": "1.5.0",
            "_view_name": "FileUploadView",
            "accept": "image/*",
            "button_style": "",
            "data": [
              null
            ],
            "description": "Upload",
            "description_tooltip": null,
            "disabled": false,
            "error": "",
            "icon": "upload",
            "layout": "IPY_MODEL_b03ba69ef5374c628969dba1eac15cc4",
            "metadata": [
              {
                "lastModified": 1613550392000,
                "name": "050_0007.png",
                "size": 47921,
                "type": "image/png"
              }
            ],
            "multiple": false,
            "style": "IPY_MODEL_49568e4ba2934689a1db70cee954f22a"
          }
        },
        "b03ba69ef5374c628969dba1eac15cc4": {
          "model_module": "@jupyter-widgets/base",
          "model_module_version": "1.2.0",
          "model_name": "LayoutModel",
          "state": {
            "_model_module": "@jupyter-widgets/base",
            "_model_module_version": "1.2.0",
            "_model_name": "LayoutModel",
            "_view_count": null,
            "_view_module": "@jupyter-widgets/base",
            "_view_module_version": "1.2.0",
            "_view_name": "LayoutView",
            "align_content": null,
            "align_items": null,
            "align_self": null,
            "border": null,
            "bottom": null,
            "display": null,
            "flex": null,
            "flex_flow": null,
            "grid_area": null,
            "grid_auto_columns": null,
            "grid_auto_flow": null,
            "grid_auto_rows": null,
            "grid_column": null,
            "grid_gap": null,
            "grid_row": null,
            "grid_template_areas": null,
            "grid_template_columns": null,
            "grid_template_rows": null,
            "height": null,
            "justify_content": null,
            "justify_items": null,
            "left": null,
            "margin": null,
            "max_height": null,
            "max_width": null,
            "min_height": null,
            "min_width": null,
            "object_fit": null,
            "object_position": null,
            "order": null,
            "overflow": null,
            "overflow_x": null,
            "overflow_y": null,
            "padding": null,
            "right": null,
            "top": null,
            "visibility": null,
            "width": null
          }
        }
      }
    }
  },
  "nbformat": 4,
  "nbformat_minor": 0
}
